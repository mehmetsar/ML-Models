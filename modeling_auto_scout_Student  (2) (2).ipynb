{
 "cells": [
  {
   "cell_type": "markdown",
   "metadata": {
    "id": "4UCsvzbImqZN"
   },
   "source": [
    "___\n",
    "\n",
    "<p style=\"text-align: center;\"><img src=\"https://docs.google.com/uc?id=1lY0Uj5R04yMY3-ZppPWxqCr5pvBLYPnV\" class=\"img-fluid\" alt=\"CLRSWY\"></p>\n",
    "\n",
    "___"
   ]
  },
  {
   "cell_type": "markdown",
   "metadata": {
    "id": "i5WapR8JmqZN"
   },
   "source": [
    "# WELCOME!"
   ]
  },
  {
   "cell_type": "markdown",
   "metadata": {
    "id": "ZyeGWbuTmqZN"
   },
   "source": [
    "Welcome to \"***Car Price Prediction Project***\". This is the first medium project of ***Machine Learning*** course. In this project you will have the opportunity to apply many algorithms commonly used for regression problems.\n",
    "\n",
    "Also, you will apply various processes such as pre-processing, ***train-test spilit*** and ***cross validation*** that you will use in algorithm modeling and prediction processes in Python with ***scikit-learn***. \n",
    "\n",
    "Before diving into the project, please take a look at the determines and tasks.\n",
    "\n",
    "- **NOTE:** This project assumes that you already know the basics of coding in Python. You should also be familiar with the theory behind regression algorithms and scikit-learn module as well as Machine Learning before you begin.\n"
   ]
  },
  {
   "cell_type": "markdown",
   "metadata": {
    "id": "c0Iul5QymqZN"
   },
   "source": [
    "# #Determines\n",
    "\n",
    "**Auto Scout** data which using for this project, scraped from the on-line car trading company(https://www.autoscout24.com)in 2019, contains many features of 9 different car models. In this project, you will use the data set which is already preprocessed and prepared for algorithms .\n",
    "\n",
    "The aim of this project to understand of machine learning algorithms. Therefore, you will not need any EDA process as you will be working on the edited data.\n",
    "\n",
    "---\n",
    "\n",
    "In this Senario, you will estimate the prices of cars using regression algorithms.\n",
    "\n",
    "While starting you should import the necessary modules and load the data given as pkl file. Also you'll need to do a few pre-processing before moving to modelling. After that you will implement ***Linear Regression, Ridge Regression, Lasso Regression,and Elastic-Net algorithms respectively*** (After completion of Unsupervised Learning section, you can also add bagging and boosting algorithms such as ***Random Forest and XG Boost*** this notebook to develop the project). You can measure the success of your models with regression evaluation metrics as well as with cross validation method.\n",
    "\n",
    "For the better results, you should try to increase the success of your models by performing hyperparameter tuning. Determine feature importances for the model. You can set your model with the most important features for resource saving. You should try to apply this especially in Random Forest and XG Boost algorithms. Unlike the others, you will perform hyperparameter tuning for Random Forest and XG Boost using the ***GridSearchCV*** method. \n",
    "\n",
    "Finally You can compare the performances of algorithms, work more on the algorithm have the most successful prediction rate.\n",
    "\n",
    "\n",
    "\n",
    "\n"
   ]
  },
  {
   "cell_type": "markdown",
   "metadata": {
    "id": "pL-jJ1irmqZN"
   },
   "source": [
    "# #Tasks\n",
    "\n",
    "#### 1. Import Modules, Load Data and Data Review\n",
    "#### 2. Data Pre-Processing\n",
    "#### 3. Implement Linear Regression \n",
    "#### 4. Implement Ridge Regression\n",
    "#### 5. Implement Lasso Regression \n",
    "#### 6. Implement Elastic-Net\n",
    "#### 7. Visually Compare Models Performance In a Graph"
   ]
  },
  {
   "cell_type": "markdown",
   "metadata": {
    "id": "Rik6d_vimqZN"
   },
   "source": [
    "## 1. Import Modules, Load Data and Data Review"
   ]
  },
  {
   "cell_type": "code",
   "execution_count": 1,
   "metadata": {
    "id": "QBddHlqgmqZN"
   },
   "outputs": [],
   "source": [
    "import numpy as np\n",
    "import pandas as pd\n",
    "import matplotlib.pyplot as plt\n",
    "import seaborn as sns\n",
    "import scipy.stats as stats\n",
    "plt.rcParams[\"figure.figsize\"] = (10,6) # figsize kullanmadan hepsini (10,6) olacak şekilde sabitledik.\n",
    "import warnings\n",
    "warnings.filterwarnings(\"ignore\")"
   ]
  },
  {
   "cell_type": "code",
   "execution_count": 2,
   "metadata": {},
   "outputs": [
    {
     "data": {
      "text/html": [
       "<div>\n",
       "<style scoped>\n",
       "    .dataframe tbody tr th:only-of-type {\n",
       "        vertical-align: middle;\n",
       "    }\n",
       "\n",
       "    .dataframe tbody tr th {\n",
       "        vertical-align: top;\n",
       "    }\n",
       "\n",
       "    .dataframe thead th {\n",
       "        text-align: right;\n",
       "    }\n",
       "</style>\n",
       "<table border=\"1\" class=\"dataframe\">\n",
       "  <thead>\n",
       "    <tr style=\"text-align: right;\">\n",
       "      <th></th>\n",
       "      <th>price</th>\n",
       "      <th>km</th>\n",
       "      <th>Gears</th>\n",
       "      <th>age</th>\n",
       "      <th>Previous_Owners</th>\n",
       "      <th>hp_kW</th>\n",
       "      <th>Inspection_new</th>\n",
       "      <th>Displacement_cc</th>\n",
       "      <th>Weight_kg</th>\n",
       "      <th>cons_comb</th>\n",
       "      <th>...</th>\n",
       "      <th>Paint_Type_Perl effect</th>\n",
       "      <th>Paint_Type_Uni/basic</th>\n",
       "      <th>Upholstery_type_Cloth</th>\n",
       "      <th>Upholstery_type_Part/Full Leather</th>\n",
       "      <th>Gearing_Type_Automatic</th>\n",
       "      <th>Gearing_Type_Manual</th>\n",
       "      <th>Gearing_Type_Semi-automatic</th>\n",
       "      <th>Drive_chain_4WD</th>\n",
       "      <th>Drive_chain_front</th>\n",
       "      <th>Drive_chain_rear</th>\n",
       "    </tr>\n",
       "  </thead>\n",
       "  <tbody>\n",
       "    <tr>\n",
       "      <th>0</th>\n",
       "      <td>15770</td>\n",
       "      <td>56013.0</td>\n",
       "      <td>7.0</td>\n",
       "      <td>3.0</td>\n",
       "      <td>2.0</td>\n",
       "      <td>66.0</td>\n",
       "      <td>1</td>\n",
       "      <td>1422.0</td>\n",
       "      <td>1220.0</td>\n",
       "      <td>3.8</td>\n",
       "      <td>...</td>\n",
       "      <td>0</td>\n",
       "      <td>0</td>\n",
       "      <td>1</td>\n",
       "      <td>0</td>\n",
       "      <td>1</td>\n",
       "      <td>0</td>\n",
       "      <td>0</td>\n",
       "      <td>0</td>\n",
       "      <td>1</td>\n",
       "      <td>0</td>\n",
       "    </tr>\n",
       "    <tr>\n",
       "      <th>1</th>\n",
       "      <td>14500</td>\n",
       "      <td>80000.0</td>\n",
       "      <td>7.0</td>\n",
       "      <td>2.0</td>\n",
       "      <td>1.0</td>\n",
       "      <td>141.0</td>\n",
       "      <td>0</td>\n",
       "      <td>1798.0</td>\n",
       "      <td>1255.0</td>\n",
       "      <td>5.6</td>\n",
       "      <td>...</td>\n",
       "      <td>0</td>\n",
       "      <td>0</td>\n",
       "      <td>1</td>\n",
       "      <td>0</td>\n",
       "      <td>1</td>\n",
       "      <td>0</td>\n",
       "      <td>0</td>\n",
       "      <td>0</td>\n",
       "      <td>1</td>\n",
       "      <td>0</td>\n",
       "    </tr>\n",
       "    <tr>\n",
       "      <th>2</th>\n",
       "      <td>14640</td>\n",
       "      <td>83450.0</td>\n",
       "      <td>7.0</td>\n",
       "      <td>3.0</td>\n",
       "      <td>1.0</td>\n",
       "      <td>85.0</td>\n",
       "      <td>0</td>\n",
       "      <td>1598.0</td>\n",
       "      <td>1135.0</td>\n",
       "      <td>3.8</td>\n",
       "      <td>...</td>\n",
       "      <td>0</td>\n",
       "      <td>0</td>\n",
       "      <td>1</td>\n",
       "      <td>0</td>\n",
       "      <td>1</td>\n",
       "      <td>0</td>\n",
       "      <td>0</td>\n",
       "      <td>0</td>\n",
       "      <td>1</td>\n",
       "      <td>0</td>\n",
       "    </tr>\n",
       "    <tr>\n",
       "      <th>3</th>\n",
       "      <td>14500</td>\n",
       "      <td>73000.0</td>\n",
       "      <td>6.0</td>\n",
       "      <td>3.0</td>\n",
       "      <td>1.0</td>\n",
       "      <td>66.0</td>\n",
       "      <td>0</td>\n",
       "      <td>1422.0</td>\n",
       "      <td>1195.0</td>\n",
       "      <td>3.8</td>\n",
       "      <td>...</td>\n",
       "      <td>0</td>\n",
       "      <td>0</td>\n",
       "      <td>1</td>\n",
       "      <td>0</td>\n",
       "      <td>1</td>\n",
       "      <td>0</td>\n",
       "      <td>0</td>\n",
       "      <td>0</td>\n",
       "      <td>1</td>\n",
       "      <td>0</td>\n",
       "    </tr>\n",
       "    <tr>\n",
       "      <th>4</th>\n",
       "      <td>16790</td>\n",
       "      <td>16200.0</td>\n",
       "      <td>7.0</td>\n",
       "      <td>3.0</td>\n",
       "      <td>1.0</td>\n",
       "      <td>66.0</td>\n",
       "      <td>1</td>\n",
       "      <td>1422.0</td>\n",
       "      <td>1135.0</td>\n",
       "      <td>4.1</td>\n",
       "      <td>...</td>\n",
       "      <td>0</td>\n",
       "      <td>0</td>\n",
       "      <td>1</td>\n",
       "      <td>0</td>\n",
       "      <td>1</td>\n",
       "      <td>0</td>\n",
       "      <td>0</td>\n",
       "      <td>0</td>\n",
       "      <td>1</td>\n",
       "      <td>0</td>\n",
       "    </tr>\n",
       "  </tbody>\n",
       "</table>\n",
       "<p>5 rows × 143 columns</p>\n",
       "</div>"
      ],
      "text/plain": [
       "   price       km  Gears  age  Previous_Owners  hp_kW  Inspection_new  \\\n",
       "0  15770  56013.0    7.0  3.0              2.0   66.0               1   \n",
       "1  14500  80000.0    7.0  2.0              1.0  141.0               0   \n",
       "2  14640  83450.0    7.0  3.0              1.0   85.0               0   \n",
       "3  14500  73000.0    6.0  3.0              1.0   66.0               0   \n",
       "4  16790  16200.0    7.0  3.0              1.0   66.0               1   \n",
       "\n",
       "   Displacement_cc  Weight_kg  cons_comb  ...  Paint_Type_Perl effect  \\\n",
       "0           1422.0     1220.0        3.8  ...                       0   \n",
       "1           1798.0     1255.0        5.6  ...                       0   \n",
       "2           1598.0     1135.0        3.8  ...                       0   \n",
       "3           1422.0     1195.0        3.8  ...                       0   \n",
       "4           1422.0     1135.0        4.1  ...                       0   \n",
       "\n",
       "   Paint_Type_Uni/basic  Upholstery_type_Cloth  \\\n",
       "0                     0                      1   \n",
       "1                     0                      1   \n",
       "2                     0                      1   \n",
       "3                     0                      1   \n",
       "4                     0                      1   \n",
       "\n",
       "   Upholstery_type_Part/Full Leather  Gearing_Type_Automatic  \\\n",
       "0                                  0                       1   \n",
       "1                                  0                       1   \n",
       "2                                  0                       1   \n",
       "3                                  0                       1   \n",
       "4                                  0                       1   \n",
       "\n",
       "   Gearing_Type_Manual  Gearing_Type_Semi-automatic  Drive_chain_4WD  \\\n",
       "0                    0                            0                0   \n",
       "1                    0                            0                0   \n",
       "2                    0                            0                0   \n",
       "3                    0                            0                0   \n",
       "4                    0                            0                0   \n",
       "\n",
       "   Drive_chain_front  Drive_chain_rear  \n",
       "0                  1                 0  \n",
       "1                  1                 0  \n",
       "2                  1                 0  \n",
       "3                  1                 0  \n",
       "4                  1                 0  \n",
       "\n",
       "[5 rows x 143 columns]"
      ]
     },
     "execution_count": 2,
     "metadata": {},
     "output_type": "execute_result"
    }
   ],
   "source": [
    "df = pd.read_csv(\"final_scout_dummy.csv\")\n",
    "df.head()"
   ]
  },
  {
   "cell_type": "code",
   "execution_count": 3,
   "metadata": {},
   "outputs": [
    {
     "data": {
      "text/html": [
       "<div>\n",
       "<style scoped>\n",
       "    .dataframe tbody tr th:only-of-type {\n",
       "        vertical-align: middle;\n",
       "    }\n",
       "\n",
       "    .dataframe tbody tr th {\n",
       "        vertical-align: top;\n",
       "    }\n",
       "\n",
       "    .dataframe thead th {\n",
       "        text-align: right;\n",
       "    }\n",
       "</style>\n",
       "<table border=\"1\" class=\"dataframe\">\n",
       "  <thead>\n",
       "    <tr style=\"text-align: right;\">\n",
       "      <th></th>\n",
       "      <th>0</th>\n",
       "      <th>1</th>\n",
       "      <th>2</th>\n",
       "      <th>3</th>\n",
       "      <th>4</th>\n",
       "    </tr>\n",
       "  </thead>\n",
       "  <tbody>\n",
       "    <tr>\n",
       "      <th>price</th>\n",
       "      <td>15770.0</td>\n",
       "      <td>14500.0</td>\n",
       "      <td>14640.0</td>\n",
       "      <td>14500.0</td>\n",
       "      <td>16790.0</td>\n",
       "    </tr>\n",
       "    <tr>\n",
       "      <th>km</th>\n",
       "      <td>56013.0</td>\n",
       "      <td>80000.0</td>\n",
       "      <td>83450.0</td>\n",
       "      <td>73000.0</td>\n",
       "      <td>16200.0</td>\n",
       "    </tr>\n",
       "    <tr>\n",
       "      <th>Gears</th>\n",
       "      <td>7.0</td>\n",
       "      <td>7.0</td>\n",
       "      <td>7.0</td>\n",
       "      <td>6.0</td>\n",
       "      <td>7.0</td>\n",
       "    </tr>\n",
       "    <tr>\n",
       "      <th>age</th>\n",
       "      <td>3.0</td>\n",
       "      <td>2.0</td>\n",
       "      <td>3.0</td>\n",
       "      <td>3.0</td>\n",
       "      <td>3.0</td>\n",
       "    </tr>\n",
       "    <tr>\n",
       "      <th>Previous_Owners</th>\n",
       "      <td>2.0</td>\n",
       "      <td>1.0</td>\n",
       "      <td>1.0</td>\n",
       "      <td>1.0</td>\n",
       "      <td>1.0</td>\n",
       "    </tr>\n",
       "    <tr>\n",
       "      <th>...</th>\n",
       "      <td>...</td>\n",
       "      <td>...</td>\n",
       "      <td>...</td>\n",
       "      <td>...</td>\n",
       "      <td>...</td>\n",
       "    </tr>\n",
       "    <tr>\n",
       "      <th>Gearing_Type_Manual</th>\n",
       "      <td>0.0</td>\n",
       "      <td>0.0</td>\n",
       "      <td>0.0</td>\n",
       "      <td>0.0</td>\n",
       "      <td>0.0</td>\n",
       "    </tr>\n",
       "    <tr>\n",
       "      <th>Gearing_Type_Semi-automatic</th>\n",
       "      <td>0.0</td>\n",
       "      <td>0.0</td>\n",
       "      <td>0.0</td>\n",
       "      <td>0.0</td>\n",
       "      <td>0.0</td>\n",
       "    </tr>\n",
       "    <tr>\n",
       "      <th>Drive_chain_4WD</th>\n",
       "      <td>0.0</td>\n",
       "      <td>0.0</td>\n",
       "      <td>0.0</td>\n",
       "      <td>0.0</td>\n",
       "      <td>0.0</td>\n",
       "    </tr>\n",
       "    <tr>\n",
       "      <th>Drive_chain_front</th>\n",
       "      <td>1.0</td>\n",
       "      <td>1.0</td>\n",
       "      <td>1.0</td>\n",
       "      <td>1.0</td>\n",
       "      <td>1.0</td>\n",
       "    </tr>\n",
       "    <tr>\n",
       "      <th>Drive_chain_rear</th>\n",
       "      <td>0.0</td>\n",
       "      <td>0.0</td>\n",
       "      <td>0.0</td>\n",
       "      <td>0.0</td>\n",
       "      <td>0.0</td>\n",
       "    </tr>\n",
       "  </tbody>\n",
       "</table>\n",
       "<p>143 rows × 5 columns</p>\n",
       "</div>"
      ],
      "text/plain": [
       "                                   0        1        2        3        4\n",
       "price                        15770.0  14500.0  14640.0  14500.0  16790.0\n",
       "km                           56013.0  80000.0  83450.0  73000.0  16200.0\n",
       "Gears                            7.0      7.0      7.0      6.0      7.0\n",
       "age                              3.0      2.0      3.0      3.0      3.0\n",
       "Previous_Owners                  2.0      1.0      1.0      1.0      1.0\n",
       "...                              ...      ...      ...      ...      ...\n",
       "Gearing_Type_Manual              0.0      0.0      0.0      0.0      0.0\n",
       "Gearing_Type_Semi-automatic      0.0      0.0      0.0      0.0      0.0\n",
       "Drive_chain_4WD                  0.0      0.0      0.0      0.0      0.0\n",
       "Drive_chain_front                1.0      1.0      1.0      1.0      1.0\n",
       "Drive_chain_rear                 0.0      0.0      0.0      0.0      0.0\n",
       "\n",
       "[143 rows x 5 columns]"
      ]
     },
     "execution_count": 3,
     "metadata": {},
     "output_type": "execute_result"
    }
   ],
   "source": [
    "df.head().T"
   ]
  },
  {
   "cell_type": "code",
   "execution_count": 4,
   "metadata": {},
   "outputs": [
    {
     "name": "stdout",
     "output_type": "stream",
     "text": [
      "<class 'pandas.core.frame.DataFrame'>\n",
      "RangeIndex: 5 entries, 0 to 4\n",
      "Columns: 143 entries, price to Drive_chain_rear\n",
      "dtypes: float64(8), int64(135)\n",
      "memory usage: 5.7 KB\n"
     ]
    }
   ],
   "source": [
    "df.iloc[:5].info()"
   ]
  },
  {
   "cell_type": "code",
   "execution_count": 5,
   "metadata": {},
   "outputs": [
    {
     "name": "stdout",
     "output_type": "stream",
     "text": [
      "<class 'pandas.core.frame.DataFrame'>\n",
      "RangeIndex: 15915 entries, 0 to 15914\n",
      "Columns: 143 entries, price to Drive_chain_rear\n",
      "dtypes: float64(8), int64(135)\n",
      "memory usage: 17.4 MB\n"
     ]
    }
   ],
   "source": [
    "df.info()"
   ]
  },
  {
   "cell_type": "code",
   "execution_count": 6,
   "metadata": {},
   "outputs": [
    {
     "data": {
      "text/html": [
       "<div>\n",
       "<style scoped>\n",
       "    .dataframe tbody tr th:only-of-type {\n",
       "        vertical-align: middle;\n",
       "    }\n",
       "\n",
       "    .dataframe tbody tr th {\n",
       "        vertical-align: top;\n",
       "    }\n",
       "\n",
       "    .dataframe thead th {\n",
       "        text-align: right;\n",
       "    }\n",
       "</style>\n",
       "<table border=\"1\" class=\"dataframe\">\n",
       "  <thead>\n",
       "    <tr style=\"text-align: right;\">\n",
       "      <th></th>\n",
       "      <th>price</th>\n",
       "      <th>km</th>\n",
       "      <th>Gears</th>\n",
       "      <th>age</th>\n",
       "      <th>Previous_Owners</th>\n",
       "      <th>hp_kW</th>\n",
       "      <th>Inspection_new</th>\n",
       "      <th>Displacement_cc</th>\n",
       "      <th>Weight_kg</th>\n",
       "      <th>cons_comb</th>\n",
       "      <th>...</th>\n",
       "      <th>Paint_Type_Perl effect</th>\n",
       "      <th>Paint_Type_Uni/basic</th>\n",
       "      <th>Upholstery_type_Cloth</th>\n",
       "      <th>Upholstery_type_Part/Full Leather</th>\n",
       "      <th>Gearing_Type_Automatic</th>\n",
       "      <th>Gearing_Type_Manual</th>\n",
       "      <th>Gearing_Type_Semi-automatic</th>\n",
       "      <th>Drive_chain_4WD</th>\n",
       "      <th>Drive_chain_front</th>\n",
       "      <th>Drive_chain_rear</th>\n",
       "    </tr>\n",
       "  </thead>\n",
       "  <tbody>\n",
       "    <tr>\n",
       "      <th>count</th>\n",
       "      <td>15915.000000</td>\n",
       "      <td>15915.000000</td>\n",
       "      <td>15915.000000</td>\n",
       "      <td>15915.000000</td>\n",
       "      <td>15915.000000</td>\n",
       "      <td>15915.000000</td>\n",
       "      <td>15915.000000</td>\n",
       "      <td>15915.000000</td>\n",
       "      <td>15915.000000</td>\n",
       "      <td>15915.000000</td>\n",
       "      <td>...</td>\n",
       "      <td>15915.000000</td>\n",
       "      <td>15915.000000</td>\n",
       "      <td>15915.000000</td>\n",
       "      <td>15915.000000</td>\n",
       "      <td>15915.000000</td>\n",
       "      <td>15915.000000</td>\n",
       "      <td>15915.000000</td>\n",
       "      <td>15915.000000</td>\n",
       "      <td>15915.000000</td>\n",
       "      <td>15915.000000</td>\n",
       "    </tr>\n",
       "    <tr>\n",
       "      <th>mean</th>\n",
       "      <td>18024.380584</td>\n",
       "      <td>32089.995708</td>\n",
       "      <td>5.937355</td>\n",
       "      <td>1.389695</td>\n",
       "      <td>1.042853</td>\n",
       "      <td>88.499340</td>\n",
       "      <td>0.247063</td>\n",
       "      <td>1428.661891</td>\n",
       "      <td>1337.700534</td>\n",
       "      <td>4.832124</td>\n",
       "      <td>...</td>\n",
       "      <td>0.002011</td>\n",
       "      <td>0.040025</td>\n",
       "      <td>0.768709</td>\n",
       "      <td>0.231291</td>\n",
       "      <td>0.458498</td>\n",
       "      <td>0.512033</td>\n",
       "      <td>0.029469</td>\n",
       "      <td>0.012818</td>\n",
       "      <td>0.986931</td>\n",
       "      <td>0.000251</td>\n",
       "    </tr>\n",
       "    <tr>\n",
       "      <th>std</th>\n",
       "      <td>7381.679318</td>\n",
       "      <td>36977.214964</td>\n",
       "      <td>0.704772</td>\n",
       "      <td>1.121306</td>\n",
       "      <td>0.339178</td>\n",
       "      <td>26.674341</td>\n",
       "      <td>0.431317</td>\n",
       "      <td>275.804272</td>\n",
       "      <td>199.682385</td>\n",
       "      <td>0.867530</td>\n",
       "      <td>...</td>\n",
       "      <td>0.044797</td>\n",
       "      <td>0.196024</td>\n",
       "      <td>0.421671</td>\n",
       "      <td>0.421671</td>\n",
       "      <td>0.498290</td>\n",
       "      <td>0.499871</td>\n",
       "      <td>0.169123</td>\n",
       "      <td>0.112493</td>\n",
       "      <td>0.113576</td>\n",
       "      <td>0.015852</td>\n",
       "    </tr>\n",
       "    <tr>\n",
       "      <th>min</th>\n",
       "      <td>4950.000000</td>\n",
       "      <td>0.000000</td>\n",
       "      <td>5.000000</td>\n",
       "      <td>0.000000</td>\n",
       "      <td>0.000000</td>\n",
       "      <td>40.000000</td>\n",
       "      <td>0.000000</td>\n",
       "      <td>890.000000</td>\n",
       "      <td>840.000000</td>\n",
       "      <td>3.000000</td>\n",
       "      <td>...</td>\n",
       "      <td>0.000000</td>\n",
       "      <td>0.000000</td>\n",
       "      <td>0.000000</td>\n",
       "      <td>0.000000</td>\n",
       "      <td>0.000000</td>\n",
       "      <td>0.000000</td>\n",
       "      <td>0.000000</td>\n",
       "      <td>0.000000</td>\n",
       "      <td>0.000000</td>\n",
       "      <td>0.000000</td>\n",
       "    </tr>\n",
       "    <tr>\n",
       "      <th>25%</th>\n",
       "      <td>12850.000000</td>\n",
       "      <td>1920.500000</td>\n",
       "      <td>5.000000</td>\n",
       "      <td>0.000000</td>\n",
       "      <td>1.000000</td>\n",
       "      <td>66.000000</td>\n",
       "      <td>0.000000</td>\n",
       "      <td>1229.000000</td>\n",
       "      <td>1165.000000</td>\n",
       "      <td>4.100000</td>\n",
       "      <td>...</td>\n",
       "      <td>0.000000</td>\n",
       "      <td>0.000000</td>\n",
       "      <td>1.000000</td>\n",
       "      <td>0.000000</td>\n",
       "      <td>0.000000</td>\n",
       "      <td>0.000000</td>\n",
       "      <td>0.000000</td>\n",
       "      <td>0.000000</td>\n",
       "      <td>1.000000</td>\n",
       "      <td>0.000000</td>\n",
       "    </tr>\n",
       "    <tr>\n",
       "      <th>50%</th>\n",
       "      <td>16900.000000</td>\n",
       "      <td>20413.000000</td>\n",
       "      <td>6.000000</td>\n",
       "      <td>1.000000</td>\n",
       "      <td>1.000000</td>\n",
       "      <td>85.000000</td>\n",
       "      <td>0.000000</td>\n",
       "      <td>1461.000000</td>\n",
       "      <td>1295.000000</td>\n",
       "      <td>4.800000</td>\n",
       "      <td>...</td>\n",
       "      <td>0.000000</td>\n",
       "      <td>0.000000</td>\n",
       "      <td>1.000000</td>\n",
       "      <td>0.000000</td>\n",
       "      <td>0.000000</td>\n",
       "      <td>1.000000</td>\n",
       "      <td>0.000000</td>\n",
       "      <td>0.000000</td>\n",
       "      <td>1.000000</td>\n",
       "      <td>0.000000</td>\n",
       "    </tr>\n",
       "    <tr>\n",
       "      <th>75%</th>\n",
       "      <td>21900.000000</td>\n",
       "      <td>46900.000000</td>\n",
       "      <td>6.000000</td>\n",
       "      <td>2.000000</td>\n",
       "      <td>1.000000</td>\n",
       "      <td>103.000000</td>\n",
       "      <td>0.000000</td>\n",
       "      <td>1598.000000</td>\n",
       "      <td>1472.000000</td>\n",
       "      <td>5.400000</td>\n",
       "      <td>...</td>\n",
       "      <td>0.000000</td>\n",
       "      <td>0.000000</td>\n",
       "      <td>1.000000</td>\n",
       "      <td>0.000000</td>\n",
       "      <td>1.000000</td>\n",
       "      <td>1.000000</td>\n",
       "      <td>0.000000</td>\n",
       "      <td>0.000000</td>\n",
       "      <td>1.000000</td>\n",
       "      <td>0.000000</td>\n",
       "    </tr>\n",
       "    <tr>\n",
       "      <th>max</th>\n",
       "      <td>74600.000000</td>\n",
       "      <td>317000.000000</td>\n",
       "      <td>8.000000</td>\n",
       "      <td>3.000000</td>\n",
       "      <td>4.000000</td>\n",
       "      <td>294.000000</td>\n",
       "      <td>1.000000</td>\n",
       "      <td>2967.000000</td>\n",
       "      <td>2471.000000</td>\n",
       "      <td>9.100000</td>\n",
       "      <td>...</td>\n",
       "      <td>1.000000</td>\n",
       "      <td>1.000000</td>\n",
       "      <td>1.000000</td>\n",
       "      <td>1.000000</td>\n",
       "      <td>1.000000</td>\n",
       "      <td>1.000000</td>\n",
       "      <td>1.000000</td>\n",
       "      <td>1.000000</td>\n",
       "      <td>1.000000</td>\n",
       "      <td>1.000000</td>\n",
       "    </tr>\n",
       "  </tbody>\n",
       "</table>\n",
       "<p>8 rows × 143 columns</p>\n",
       "</div>"
      ],
      "text/plain": [
       "              price             km         Gears           age  \\\n",
       "count  15915.000000   15915.000000  15915.000000  15915.000000   \n",
       "mean   18024.380584   32089.995708      5.937355      1.389695   \n",
       "std     7381.679318   36977.214964      0.704772      1.121306   \n",
       "min     4950.000000       0.000000      5.000000      0.000000   \n",
       "25%    12850.000000    1920.500000      5.000000      0.000000   \n",
       "50%    16900.000000   20413.000000      6.000000      1.000000   \n",
       "75%    21900.000000   46900.000000      6.000000      2.000000   \n",
       "max    74600.000000  317000.000000      8.000000      3.000000   \n",
       "\n",
       "       Previous_Owners         hp_kW  Inspection_new  Displacement_cc  \\\n",
       "count     15915.000000  15915.000000    15915.000000     15915.000000   \n",
       "mean          1.042853     88.499340        0.247063      1428.661891   \n",
       "std           0.339178     26.674341        0.431317       275.804272   \n",
       "min           0.000000     40.000000        0.000000       890.000000   \n",
       "25%           1.000000     66.000000        0.000000      1229.000000   \n",
       "50%           1.000000     85.000000        0.000000      1461.000000   \n",
       "75%           1.000000    103.000000        0.000000      1598.000000   \n",
       "max           4.000000    294.000000        1.000000      2967.000000   \n",
       "\n",
       "          Weight_kg     cons_comb  ...  Paint_Type_Perl effect  \\\n",
       "count  15915.000000  15915.000000  ...            15915.000000   \n",
       "mean    1337.700534      4.832124  ...                0.002011   \n",
       "std      199.682385      0.867530  ...                0.044797   \n",
       "min      840.000000      3.000000  ...                0.000000   \n",
       "25%     1165.000000      4.100000  ...                0.000000   \n",
       "50%     1295.000000      4.800000  ...                0.000000   \n",
       "75%     1472.000000      5.400000  ...                0.000000   \n",
       "max     2471.000000      9.100000  ...                1.000000   \n",
       "\n",
       "       Paint_Type_Uni/basic  Upholstery_type_Cloth  \\\n",
       "count          15915.000000           15915.000000   \n",
       "mean               0.040025               0.768709   \n",
       "std                0.196024               0.421671   \n",
       "min                0.000000               0.000000   \n",
       "25%                0.000000               1.000000   \n",
       "50%                0.000000               1.000000   \n",
       "75%                0.000000               1.000000   \n",
       "max                1.000000               1.000000   \n",
       "\n",
       "       Upholstery_type_Part/Full Leather  Gearing_Type_Automatic  \\\n",
       "count                       15915.000000            15915.000000   \n",
       "mean                            0.231291                0.458498   \n",
       "std                             0.421671                0.498290   \n",
       "min                             0.000000                0.000000   \n",
       "25%                             0.000000                0.000000   \n",
       "50%                             0.000000                0.000000   \n",
       "75%                             0.000000                1.000000   \n",
       "max                             1.000000                1.000000   \n",
       "\n",
       "       Gearing_Type_Manual  Gearing_Type_Semi-automatic  Drive_chain_4WD  \\\n",
       "count         15915.000000                 15915.000000     15915.000000   \n",
       "mean              0.512033                     0.029469         0.012818   \n",
       "std               0.499871                     0.169123         0.112493   \n",
       "min               0.000000                     0.000000         0.000000   \n",
       "25%               0.000000                     0.000000         0.000000   \n",
       "50%               1.000000                     0.000000         0.000000   \n",
       "75%               1.000000                     0.000000         0.000000   \n",
       "max               1.000000                     1.000000         1.000000   \n",
       "\n",
       "       Drive_chain_front  Drive_chain_rear  \n",
       "count       15915.000000      15915.000000  \n",
       "mean            0.986931          0.000251  \n",
       "std             0.113576          0.015852  \n",
       "min             0.000000          0.000000  \n",
       "25%             1.000000          0.000000  \n",
       "50%             1.000000          0.000000  \n",
       "75%             1.000000          0.000000  \n",
       "max             1.000000          1.000000  \n",
       "\n",
       "[8 rows x 143 columns]"
      ]
     },
     "execution_count": 6,
     "metadata": {},
     "output_type": "execute_result"
    }
   ],
   "source": [
    "df.describe()"
   ]
  },
  {
   "cell_type": "code",
   "execution_count": 7,
   "metadata": {},
   "outputs": [
    {
     "data": {
      "text/html": [
       "<div>\n",
       "<style scoped>\n",
       "    .dataframe tbody tr th:only-of-type {\n",
       "        vertical-align: middle;\n",
       "    }\n",
       "\n",
       "    .dataframe tbody tr th {\n",
       "        vertical-align: top;\n",
       "    }\n",
       "\n",
       "    .dataframe thead th {\n",
       "        text-align: right;\n",
       "    }\n",
       "</style>\n",
       "<table border=\"1\" class=\"dataframe\">\n",
       "  <thead>\n",
       "    <tr style=\"text-align: right;\">\n",
       "      <th></th>\n",
       "      <th>price</th>\n",
       "      <th>km</th>\n",
       "      <th>Gears</th>\n",
       "      <th>age</th>\n",
       "      <th>Previous_Owners</th>\n",
       "      <th>hp_kW</th>\n",
       "      <th>Inspection_new</th>\n",
       "      <th>Displacement_cc</th>\n",
       "      <th>Weight_kg</th>\n",
       "      <th>cons_comb</th>\n",
       "      <th>...</th>\n",
       "      <th>Paint_Type_Perl effect</th>\n",
       "      <th>Paint_Type_Uni/basic</th>\n",
       "      <th>Upholstery_type_Cloth</th>\n",
       "      <th>Upholstery_type_Part/Full Leather</th>\n",
       "      <th>Gearing_Type_Automatic</th>\n",
       "      <th>Gearing_Type_Manual</th>\n",
       "      <th>Gearing_Type_Semi-automatic</th>\n",
       "      <th>Drive_chain_4WD</th>\n",
       "      <th>Drive_chain_front</th>\n",
       "      <th>Drive_chain_rear</th>\n",
       "    </tr>\n",
       "  </thead>\n",
       "  <tbody>\n",
       "    <tr>\n",
       "      <th>price</th>\n",
       "      <td>1.000000</td>\n",
       "      <td>-0.399291</td>\n",
       "      <td>0.530291</td>\n",
       "      <td>-0.473478</td>\n",
       "      <td>-0.144628</td>\n",
       "      <td>0.696411</td>\n",
       "      <td>0.008180</td>\n",
       "      <td>0.281824</td>\n",
       "      <td>0.468433</td>\n",
       "      <td>0.272261</td>\n",
       "      <td>...</td>\n",
       "      <td>-0.049888</td>\n",
       "      <td>-0.035390</td>\n",
       "      <td>-0.386556</td>\n",
       "      <td>0.386556</td>\n",
       "      <td>0.391283</td>\n",
       "      <td>-0.431675</td>\n",
       "      <td>0.123043</td>\n",
       "      <td>0.158032</td>\n",
       "      <td>-0.155718</td>\n",
       "      <td>-0.005782</td>\n",
       "    </tr>\n",
       "    <tr>\n",
       "      <th>km</th>\n",
       "      <td>-0.399291</td>\n",
       "      <td>1.000000</td>\n",
       "      <td>-0.033171</td>\n",
       "      <td>0.758306</td>\n",
       "      <td>0.157041</td>\n",
       "      <td>0.004217</td>\n",
       "      <td>-0.049443</td>\n",
       "      <td>0.306774</td>\n",
       "      <td>0.147098</td>\n",
       "      <td>-0.300198</td>\n",
       "      <td>...</td>\n",
       "      <td>0.010414</td>\n",
       "      <td>-0.029852</td>\n",
       "      <td>-0.034449</td>\n",
       "      <td>0.034449</td>\n",
       "      <td>-0.108580</td>\n",
       "      <td>0.095489</td>\n",
       "      <td>0.037676</td>\n",
       "      <td>-0.010118</td>\n",
       "      <td>0.009749</td>\n",
       "      <td>0.001953</td>\n",
       "    </tr>\n",
       "    <tr>\n",
       "      <th>Gears</th>\n",
       "      <td>0.530291</td>\n",
       "      <td>-0.033171</td>\n",
       "      <td>1.000000</td>\n",
       "      <td>-0.064524</td>\n",
       "      <td>-0.036612</td>\n",
       "      <td>0.449793</td>\n",
       "      <td>-0.011096</td>\n",
       "      <td>0.339507</td>\n",
       "      <td>0.333928</td>\n",
       "      <td>-0.003733</td>\n",
       "      <td>...</td>\n",
       "      <td>-0.049749</td>\n",
       "      <td>-0.029608</td>\n",
       "      <td>-0.226584</td>\n",
       "      <td>0.226584</td>\n",
       "      <td>0.577080</td>\n",
       "      <td>-0.617596</td>\n",
       "      <td>0.125146</td>\n",
       "      <td>0.101277</td>\n",
       "      <td>-0.099723</td>\n",
       "      <td>-0.004215</td>\n",
       "    </tr>\n",
       "    <tr>\n",
       "      <th>age</th>\n",
       "      <td>-0.473478</td>\n",
       "      <td>0.758306</td>\n",
       "      <td>-0.064524</td>\n",
       "      <td>1.000000</td>\n",
       "      <td>0.316108</td>\n",
       "      <td>-0.083254</td>\n",
       "      <td>-0.045511</td>\n",
       "      <td>0.215266</td>\n",
       "      <td>0.064883</td>\n",
       "      <td>-0.341303</td>\n",
       "      <td>...</td>\n",
       "      <td>0.048200</td>\n",
       "      <td>-0.046952</td>\n",
       "      <td>-0.012297</td>\n",
       "      <td>0.012297</td>\n",
       "      <td>-0.094875</td>\n",
       "      <td>0.066074</td>\n",
       "      <td>0.084242</td>\n",
       "      <td>-0.059031</td>\n",
       "      <td>0.057757</td>\n",
       "      <td>0.005095</td>\n",
       "    </tr>\n",
       "    <tr>\n",
       "      <th>Previous_Owners</th>\n",
       "      <td>-0.144628</td>\n",
       "      <td>0.157041</td>\n",
       "      <td>-0.036612</td>\n",
       "      <td>0.316108</td>\n",
       "      <td>1.000000</td>\n",
       "      <td>-0.022556</td>\n",
       "      <td>0.019545</td>\n",
       "      <td>0.027958</td>\n",
       "      <td>0.003443</td>\n",
       "      <td>-0.020172</td>\n",
       "      <td>...</td>\n",
       "      <td>0.097720</td>\n",
       "      <td>-0.025799</td>\n",
       "      <td>-0.008901</td>\n",
       "      <td>0.008901</td>\n",
       "      <td>0.031344</td>\n",
       "      <td>-0.027503</td>\n",
       "      <td>-0.011062</td>\n",
       "      <td>-0.068745</td>\n",
       "      <td>0.068369</td>\n",
       "      <td>-0.002003</td>\n",
       "    </tr>\n",
       "    <tr>\n",
       "      <th>...</th>\n",
       "      <td>...</td>\n",
       "      <td>...</td>\n",
       "      <td>...</td>\n",
       "      <td>...</td>\n",
       "      <td>...</td>\n",
       "      <td>...</td>\n",
       "      <td>...</td>\n",
       "      <td>...</td>\n",
       "      <td>...</td>\n",
       "      <td>...</td>\n",
       "      <td>...</td>\n",
       "      <td>...</td>\n",
       "      <td>...</td>\n",
       "      <td>...</td>\n",
       "      <td>...</td>\n",
       "      <td>...</td>\n",
       "      <td>...</td>\n",
       "      <td>...</td>\n",
       "      <td>...</td>\n",
       "      <td>...</td>\n",
       "      <td>...</td>\n",
       "    </tr>\n",
       "    <tr>\n",
       "      <th>Gearing_Type_Manual</th>\n",
       "      <td>-0.431675</td>\n",
       "      <td>0.095489</td>\n",
       "      <td>-0.617596</td>\n",
       "      <td>0.066074</td>\n",
       "      <td>-0.027503</td>\n",
       "      <td>-0.395527</td>\n",
       "      <td>-0.037980</td>\n",
       "      <td>-0.230192</td>\n",
       "      <td>-0.206747</td>\n",
       "      <td>-0.233030</td>\n",
       "      <td>...</td>\n",
       "      <td>0.038206</td>\n",
       "      <td>0.040295</td>\n",
       "      <td>0.262878</td>\n",
       "      <td>-0.262878</td>\n",
       "      <td>-0.942589</td>\n",
       "      <td>1.000000</td>\n",
       "      <td>-0.178497</td>\n",
       "      <td>-0.060852</td>\n",
       "      <td>0.059218</td>\n",
       "      <td>0.007548</td>\n",
       "    </tr>\n",
       "    <tr>\n",
       "      <th>Gearing_Type_Semi-automatic</th>\n",
       "      <td>0.123043</td>\n",
       "      <td>0.037676</td>\n",
       "      <td>0.125146</td>\n",
       "      <td>0.084242</td>\n",
       "      <td>-0.011062</td>\n",
       "      <td>0.089618</td>\n",
       "      <td>-0.080865</td>\n",
       "      <td>0.096286</td>\n",
       "      <td>0.013266</td>\n",
       "      <td>-0.061445</td>\n",
       "      <td>...</td>\n",
       "      <td>0.000473</td>\n",
       "      <td>-0.035581</td>\n",
       "      <td>-0.071834</td>\n",
       "      <td>0.071834</td>\n",
       "      <td>-0.160342</td>\n",
       "      <td>-0.178497</td>\n",
       "      <td>1.000000</td>\n",
       "      <td>0.013173</td>\n",
       "      <td>-0.012662</td>\n",
       "      <td>-0.002763</td>\n",
       "    </tr>\n",
       "    <tr>\n",
       "      <th>Drive_chain_4WD</th>\n",
       "      <td>0.158032</td>\n",
       "      <td>-0.010118</td>\n",
       "      <td>0.101277</td>\n",
       "      <td>-0.059031</td>\n",
       "      <td>-0.068745</td>\n",
       "      <td>0.192034</td>\n",
       "      <td>-0.009585</td>\n",
       "      <td>0.168260</td>\n",
       "      <td>0.093409</td>\n",
       "      <td>0.134088</td>\n",
       "      <td>...</td>\n",
       "      <td>-0.005115</td>\n",
       "      <td>0.085018</td>\n",
       "      <td>-0.120306</td>\n",
       "      <td>0.120306</td>\n",
       "      <td>0.056574</td>\n",
       "      <td>-0.060852</td>\n",
       "      <td>0.013173</td>\n",
       "      <td>1.000000</td>\n",
       "      <td>-0.990212</td>\n",
       "      <td>-0.001807</td>\n",
       "    </tr>\n",
       "    <tr>\n",
       "      <th>Drive_chain_front</th>\n",
       "      <td>-0.155718</td>\n",
       "      <td>0.009749</td>\n",
       "      <td>-0.099723</td>\n",
       "      <td>0.057757</td>\n",
       "      <td>0.068369</td>\n",
       "      <td>-0.191261</td>\n",
       "      <td>0.009478</td>\n",
       "      <td>-0.168458</td>\n",
       "      <td>-0.094112</td>\n",
       "      <td>-0.133620</td>\n",
       "      <td>...</td>\n",
       "      <td>0.005165</td>\n",
       "      <td>-0.083755</td>\n",
       "      <td>0.119257</td>\n",
       "      <td>-0.119257</td>\n",
       "      <td>-0.055108</td>\n",
       "      <td>0.059218</td>\n",
       "      <td>-0.012662</td>\n",
       "      <td>-0.990212</td>\n",
       "      <td>1.000000</td>\n",
       "      <td>-0.137783</td>\n",
       "    </tr>\n",
       "    <tr>\n",
       "      <th>Drive_chain_rear</th>\n",
       "      <td>-0.005782</td>\n",
       "      <td>0.001953</td>\n",
       "      <td>-0.004215</td>\n",
       "      <td>0.005095</td>\n",
       "      <td>-0.002003</td>\n",
       "      <td>0.007579</td>\n",
       "      <td>0.000108</td>\n",
       "      <td>0.012912</td>\n",
       "      <td>0.011419</td>\n",
       "      <td>0.005810</td>\n",
       "      <td>...</td>\n",
       "      <td>-0.000712</td>\n",
       "      <td>-0.003238</td>\n",
       "      <td>-0.000704</td>\n",
       "      <td>0.000704</td>\n",
       "      <td>-0.006635</td>\n",
       "      <td>0.007548</td>\n",
       "      <td>-0.002763</td>\n",
       "      <td>-0.001807</td>\n",
       "      <td>-0.137783</td>\n",
       "      <td>1.000000</td>\n",
       "    </tr>\n",
       "  </tbody>\n",
       "</table>\n",
       "<p>143 rows × 143 columns</p>\n",
       "</div>"
      ],
      "text/plain": [
       "                                price        km     Gears       age  \\\n",
       "price                        1.000000 -0.399291  0.530291 -0.473478   \n",
       "km                          -0.399291  1.000000 -0.033171  0.758306   \n",
       "Gears                        0.530291 -0.033171  1.000000 -0.064524   \n",
       "age                         -0.473478  0.758306 -0.064524  1.000000   \n",
       "Previous_Owners             -0.144628  0.157041 -0.036612  0.316108   \n",
       "...                               ...       ...       ...       ...   \n",
       "Gearing_Type_Manual         -0.431675  0.095489 -0.617596  0.066074   \n",
       "Gearing_Type_Semi-automatic  0.123043  0.037676  0.125146  0.084242   \n",
       "Drive_chain_4WD              0.158032 -0.010118  0.101277 -0.059031   \n",
       "Drive_chain_front           -0.155718  0.009749 -0.099723  0.057757   \n",
       "Drive_chain_rear            -0.005782  0.001953 -0.004215  0.005095   \n",
       "\n",
       "                             Previous_Owners     hp_kW  Inspection_new  \\\n",
       "price                              -0.144628  0.696411        0.008180   \n",
       "km                                  0.157041  0.004217       -0.049443   \n",
       "Gears                              -0.036612  0.449793       -0.011096   \n",
       "age                                 0.316108 -0.083254       -0.045511   \n",
       "Previous_Owners                     1.000000 -0.022556        0.019545   \n",
       "...                                      ...       ...             ...   \n",
       "Gearing_Type_Manual                -0.027503 -0.395527       -0.037980   \n",
       "Gearing_Type_Semi-automatic        -0.011062  0.089618       -0.080865   \n",
       "Drive_chain_4WD                    -0.068745  0.192034       -0.009585   \n",
       "Drive_chain_front                   0.068369 -0.191261        0.009478   \n",
       "Drive_chain_rear                   -0.002003  0.007579        0.000108   \n",
       "\n",
       "                             Displacement_cc  Weight_kg  cons_comb  ...  \\\n",
       "price                               0.281824   0.468433   0.272261  ...   \n",
       "km                                  0.306774   0.147098  -0.300198  ...   \n",
       "Gears                               0.339507   0.333928  -0.003733  ...   \n",
       "age                                 0.215266   0.064883  -0.341303  ...   \n",
       "Previous_Owners                     0.027958   0.003443  -0.020172  ...   \n",
       "...                                      ...        ...        ...  ...   \n",
       "Gearing_Type_Manual                -0.230192  -0.206747  -0.233030  ...   \n",
       "Gearing_Type_Semi-automatic         0.096286   0.013266  -0.061445  ...   \n",
       "Drive_chain_4WD                     0.168260   0.093409   0.134088  ...   \n",
       "Drive_chain_front                  -0.168458  -0.094112  -0.133620  ...   \n",
       "Drive_chain_rear                    0.012912   0.011419   0.005810  ...   \n",
       "\n",
       "                             Paint_Type_Perl effect  Paint_Type_Uni/basic  \\\n",
       "price                                     -0.049888             -0.035390   \n",
       "km                                         0.010414             -0.029852   \n",
       "Gears                                     -0.049749             -0.029608   \n",
       "age                                        0.048200             -0.046952   \n",
       "Previous_Owners                            0.097720             -0.025799   \n",
       "...                                             ...                   ...   \n",
       "Gearing_Type_Manual                        0.038206              0.040295   \n",
       "Gearing_Type_Semi-automatic                0.000473             -0.035581   \n",
       "Drive_chain_4WD                           -0.005115              0.085018   \n",
       "Drive_chain_front                          0.005165             -0.083755   \n",
       "Drive_chain_rear                          -0.000712             -0.003238   \n",
       "\n",
       "                             Upholstery_type_Cloth  \\\n",
       "price                                    -0.386556   \n",
       "km                                       -0.034449   \n",
       "Gears                                    -0.226584   \n",
       "age                                      -0.012297   \n",
       "Previous_Owners                          -0.008901   \n",
       "...                                            ...   \n",
       "Gearing_Type_Manual                       0.262878   \n",
       "Gearing_Type_Semi-automatic              -0.071834   \n",
       "Drive_chain_4WD                          -0.120306   \n",
       "Drive_chain_front                         0.119257   \n",
       "Drive_chain_rear                         -0.000704   \n",
       "\n",
       "                             Upholstery_type_Part/Full Leather  \\\n",
       "price                                                 0.386556   \n",
       "km                                                    0.034449   \n",
       "Gears                                                 0.226584   \n",
       "age                                                   0.012297   \n",
       "Previous_Owners                                       0.008901   \n",
       "...                                                        ...   \n",
       "Gearing_Type_Manual                                  -0.262878   \n",
       "Gearing_Type_Semi-automatic                           0.071834   \n",
       "Drive_chain_4WD                                       0.120306   \n",
       "Drive_chain_front                                    -0.119257   \n",
       "Drive_chain_rear                                      0.000704   \n",
       "\n",
       "                             Gearing_Type_Automatic  Gearing_Type_Manual  \\\n",
       "price                                      0.391283            -0.431675   \n",
       "km                                        -0.108580             0.095489   \n",
       "Gears                                      0.577080            -0.617596   \n",
       "age                                       -0.094875             0.066074   \n",
       "Previous_Owners                            0.031344            -0.027503   \n",
       "...                                             ...                  ...   \n",
       "Gearing_Type_Manual                       -0.942589             1.000000   \n",
       "Gearing_Type_Semi-automatic               -0.160342            -0.178497   \n",
       "Drive_chain_4WD                            0.056574            -0.060852   \n",
       "Drive_chain_front                         -0.055108             0.059218   \n",
       "Drive_chain_rear                          -0.006635             0.007548   \n",
       "\n",
       "                             Gearing_Type_Semi-automatic  Drive_chain_4WD  \\\n",
       "price                                           0.123043         0.158032   \n",
       "km                                              0.037676        -0.010118   \n",
       "Gears                                           0.125146         0.101277   \n",
       "age                                             0.084242        -0.059031   \n",
       "Previous_Owners                                -0.011062        -0.068745   \n",
       "...                                                  ...              ...   \n",
       "Gearing_Type_Manual                            -0.178497        -0.060852   \n",
       "Gearing_Type_Semi-automatic                     1.000000         0.013173   \n",
       "Drive_chain_4WD                                 0.013173         1.000000   \n",
       "Drive_chain_front                              -0.012662        -0.990212   \n",
       "Drive_chain_rear                               -0.002763        -0.001807   \n",
       "\n",
       "                             Drive_chain_front  Drive_chain_rear  \n",
       "price                                -0.155718         -0.005782  \n",
       "km                                    0.009749          0.001953  \n",
       "Gears                                -0.099723         -0.004215  \n",
       "age                                   0.057757          0.005095  \n",
       "Previous_Owners                       0.068369         -0.002003  \n",
       "...                                        ...               ...  \n",
       "Gearing_Type_Manual                   0.059218          0.007548  \n",
       "Gearing_Type_Semi-automatic          -0.012662         -0.002763  \n",
       "Drive_chain_4WD                      -0.990212         -0.001807  \n",
       "Drive_chain_front                     1.000000         -0.137783  \n",
       "Drive_chain_rear                     -0.137783          1.000000  \n",
       "\n",
       "[143 rows x 143 columns]"
      ]
     },
     "execution_count": 7,
     "metadata": {},
     "output_type": "execute_result"
    }
   ],
   "source": [
    "df.corr()"
   ]
  },
  {
   "cell_type": "code",
   "execution_count": null,
   "metadata": {},
   "outputs": [],
   "source": []
  },
  {
   "cell_type": "markdown",
   "metadata": {
    "id": "QsEUUAAKmqZN"
   },
   "source": [
    "## 2. Data Pre-Processing"
   ]
  },
  {
   "cell_type": "markdown",
   "metadata": {
    "id": "QtVkM6f2mqZN"
   },
   "source": [
    "As you know, the data set must be edited before proceeding to the implementation of the model. As the last step before model fitting, you need to spilit the data set as train and test. Then, you should train the model with train data and evaluate the performance of the model on the test data. You can use the train and test data you have created for all algorithms.\n",
    "\n",
    "You must also drop your target variable, the column you are trying to predict."
   ]
  },
  {
   "cell_type": "markdown",
   "metadata": {
    "id": "K7d_92iemqZN"
   },
   "source": [
    "You can use many [performance metrics for regression](https://medium.com/analytics-vidhya/evaluation-metrics-for-regression-problems-343c4923d922) to measure the performance of the regression model you train. You can define a function to view different metric results together.\n",
    "\n",
    "You can also use the [cross validation](https://towardsdatascience.com/cross-validation-explained-evaluating-estimator-performance-e51e5430ff85) method to measure the estimator performance. Cross validation uses different data samples from your test set and calculates the accuracy score for each data sample. You can calculate the final performance of your estimator by averaging these scores."
   ]
  },
  {
   "cell_type": "code",
   "execution_count": 8,
   "metadata": {
    "id": "-3gMQ3utmqZN"
   },
   "outputs": [],
   "source": [
    "y = df.price\n",
    "X = df.drop(\"price\", axis=1)"
   ]
  },
  {
   "cell_type": "code",
   "execution_count": 9,
   "metadata": {},
   "outputs": [],
   "source": [
    "from sklearn.model_selection import train_test_split"
   ]
  },
  {
   "cell_type": "code",
   "execution_count": 10,
   "metadata": {},
   "outputs": [],
   "source": [
    " X_train, X_test, y_train, y_test = train_test_split(X, y, test_size=0.30, random_state=42)"
   ]
  },
  {
   "cell_type": "markdown",
   "metadata": {
    "id": "An_5ITcAmqZO"
   },
   "source": [
    "## 3. Implement Linear Regression"
   ]
  },
  {
   "cell_type": "markdown",
   "metadata": {
    "id": "0c0y-w8vmqZO"
   },
   "source": [
    " - Import the modul\n",
    " - Fit the model \n",
    " - Predict the test set\n",
    " - Determine feature coefficiant\n",
    " - Evaluate model performance (use performance metrics for regression and cross_val_score)\n",
    " - Compare different evaluation metrics\n",
    " \n",
    "*Note: You can use the [dir()](https://www.geeksforgeeks.org/python-dir-function/) function to see the methods you need.*"
   ]
  },
  {
   "cell_type": "code",
   "execution_count": 11,
   "metadata": {
    "id": "lq6UKn_HmqZO"
   },
   "outputs": [
    {
     "data": {
      "text/plain": [
       "array([25371.76563415, 18899.18500525, 12429.01970329, ...,\n",
       "       15622.72659933, 22027.10654864, 18208.35973271])"
      ]
     },
     "execution_count": 11,
     "metadata": {},
     "output_type": "execute_result"
    }
   ],
   "source": [
    "from sklearn.linear_model import LinearRegression\n",
    "\n",
    "model = LinearRegression()\n",
    "model.fit(X_train, y_train)\n",
    "\n",
    "y_pred = model.predict(X_test)\n",
    "y_pred"
   ]
  },
  {
   "cell_type": "code",
   "execution_count": 12,
   "metadata": {},
   "outputs": [
    {
     "data": {
      "text/plain": [
       "array([-3.57799899e-02,  6.28960841e+02, -1.62648163e+03,  8.99108472e+01,\n",
       "        9.34669011e+01, -2.52268830e+02, -6.97421199e-01, -1.41670577e+00,\n",
       "        1.30185942e+02,  2.47630935e+02, -6.31217320e+02,  3.07349586e+01,\n",
       "        2.27980871e+02, -2.54797237e+02,  2.40390227e+02, -1.22602516e+03,\n",
       "       -4.16499077e+01,  4.96039770e+01,  1.05468281e+02,  3.81694227e+02,\n",
       "        2.44968701e+03,  3.10297781e+02,  1.43000383e+02,  1.16665734e+02,\n",
       "       -5.16800333e+02,  1.67217777e+02,  1.28492743e+02, -3.97449486e+02,\n",
       "        4.29295818e+02,  1.58612879e+02,  3.16331241e+02, -1.79850182e+02,\n",
       "        7.04747998e+02, -1.77561609e+01,  9.83243060e+02,  3.28444341e+02,\n",
       "       -5.62946905e+02,  5.16486607e+01, -2.69733790e+02,  2.48289443e+01,\n",
       "        9.13532883e+02, -2.01933356e+02,  7.14732096e+00,  5.55411400e+02,\n",
       "        6.50956273e+01, -1.13962335e+03, -2.49909385e+02, -4.64563006e+02,\n",
       "        8.55763209e+01,  8.00078612e+02, -7.98443794e+01,  3.10643381e+01,\n",
       "       -5.82050116e+00,  1.57752019e+02, -1.76757665e+02, -1.19155171e+03,\n",
       "       -2.95075275e+02,  2.03519661e+02,  1.60401720e+02,  2.01440761e+02,\n",
       "       -5.05844670e+02, -1.19366644e+03,  3.32951865e+01, -2.20060913e+01,\n",
       "       -5.30180444e+02,  1.37667176e+03,  5.45994945e+02,  1.36248546e+02,\n",
       "       -6.41868921e+01, -2.58566185e+02,  6.31486359e+01,  1.75183391e+03,\n",
       "       -1.57526946e+02,  7.95938663e+01,  1.51754177e+02,  2.59188206e+02,\n",
       "        9.25753245e+01,  1.17203902e+02, -3.08526714e+02, -2.98993867e+02,\n",
       "       -6.12755480e+01, -1.82253359e+02,  4.35887914e+01, -1.08389365e+02,\n",
       "       -2.97922740e+02,  2.36270383e+02, -8.37949380e+02, -7.05879392e+01,\n",
       "       -2.89567381e+01, -3.20602287e+02, -4.53509298e+02, -2.23714950e+02,\n",
       "        7.81667604e+02,  8.31834902e+02,  7.35392262e+01,  5.59018841e+02,\n",
       "       -5.17424052e+02, -7.64157467e+02,  1.31838591e+02,  1.20636009e+02,\n",
       "        1.28124057e+02,  4.30981610e+00, -3.41056709e+02,  2.87528752e+03,\n",
       "        7.61701813e-12,  4.08462593e+03, -1.14784894e+03, -2.51364037e+03,\n",
       "        1.20188848e+03, -2.67398712e+03, -7.87642216e+03,  6.05009664e+03,\n",
       "       -4.86094986e+02,  1.51662119e+03, -4.85015708e+02,  1.87096950e+02,\n",
       "       -3.94182899e+02, -1.66400915e+02, -1.24878658e+03,  1.07676294e+03,\n",
       "       -9.60062811e+01,  9.60062811e+01,  1.84722514e+03, -1.13600507e+03,\n",
       "        8.56235099e+02, -5.79303886e+02, -9.88151280e+02, -2.06988295e+03,\n",
       "       -1.25445766e+03,  4.80951546e+03, -1.48517484e+03, -7.86745826e+02,\n",
       "        1.48341352e+03, -6.96667694e+02, -1.23514007e+02,  1.23514007e+02,\n",
       "       -3.71337416e+02, -1.61404493e+03,  1.98538235e+03,  2.49155886e+03,\n",
       "        2.39881214e+02, -2.73144008e+03])"
      ]
     },
     "execution_count": 12,
     "metadata": {},
     "output_type": "execute_result"
    }
   ],
   "source": [
    "model.coef_"
   ]
  },
  {
   "cell_type": "code",
   "execution_count": 13,
   "metadata": {},
   "outputs": [],
   "source": [
    "from sklearn.metrics import mean_absolute_error,mean_squared_error, r2_score\n",
    "\n",
    "def eval_metrics(actual, pred):\n",
    "    mae = mean_absolute_error(actual, pred)\n",
    "    mse = mean_squared_error(actual, pred)\n",
    "    rmse = np.sqrt(mean_squared_error(actual, pred))\n",
    "    R2_score = r2_score(actual, pred)\n",
    "    print(\"Model testing performance:\")\n",
    "    print(\"--------------------------\")\n",
    "    print(f\"R2_score \\t: {R2_score}\")\n",
    "    print(f\"MAE \\t\\t: {mae}\")\n",
    "    print(f\"MSE \\t\\t: {mse}\")\n",
    "    print(f\"RMSE \\t\\t: {rmse}\")"
   ]
  },
  {
   "cell_type": "code",
   "execution_count": null,
   "metadata": {},
   "outputs": [],
   "source": []
  },
  {
   "cell_type": "markdown",
   "metadata": {
    "id": "n2ROwYsymqZO"
   },
   "source": [
    "## 4. Implement Ridge Regression"
   ]
  },
  {
   "cell_type": "markdown",
   "metadata": {
    "id": "3RvdF8CRmqZO"
   },
   "source": [
    "- Import the modul \n",
    "- Do not forget to scale the data or use Normalize parameter as True \n",
    "- Fit the model \n",
    "- Predict the test set \n",
    "- Evaluate model performance (use performance metrics for regression) \n",
    "- Tune alpha hiperparameter by using [cross validation](https://scikit-learn.org/stable/modules/generated/sklearn.linear_model.RidgeCV.html) and determine the optimal alpha value.\n",
    "- Fit the model and predict again with the new alpha value. "
   ]
  },
  {
   "cell_type": "code",
   "execution_count": 14,
   "metadata": {},
   "outputs": [
    {
     "data": {
      "text/plain": [
       "['explained_variance',\n",
       " 'r2',\n",
       " 'max_error',\n",
       " 'neg_median_absolute_error',\n",
       " 'neg_mean_absolute_error',\n",
       " 'neg_mean_absolute_percentage_error',\n",
       " 'neg_mean_squared_error',\n",
       " 'neg_mean_squared_log_error',\n",
       " 'neg_root_mean_squared_error',\n",
       " 'neg_mean_poisson_deviance',\n",
       " 'neg_mean_gamma_deviance',\n",
       " 'accuracy',\n",
       " 'top_k_accuracy',\n",
       " 'roc_auc',\n",
       " 'roc_auc_ovr',\n",
       " 'roc_auc_ovo',\n",
       " 'roc_auc_ovr_weighted',\n",
       " 'roc_auc_ovo_weighted',\n",
       " 'balanced_accuracy',\n",
       " 'average_precision',\n",
       " 'neg_log_loss',\n",
       " 'neg_brier_score',\n",
       " 'adjusted_rand_score',\n",
       " 'rand_score',\n",
       " 'homogeneity_score',\n",
       " 'completeness_score',\n",
       " 'v_measure_score',\n",
       " 'mutual_info_score',\n",
       " 'adjusted_mutual_info_score',\n",
       " 'normalized_mutual_info_score',\n",
       " 'fowlkes_mallows_score',\n",
       " 'precision',\n",
       " 'precision_macro',\n",
       " 'precision_micro',\n",
       " 'precision_samples',\n",
       " 'precision_weighted',\n",
       " 'recall',\n",
       " 'recall_macro',\n",
       " 'recall_micro',\n",
       " 'recall_samples',\n",
       " 'recall_weighted',\n",
       " 'f1',\n",
       " 'f1_macro',\n",
       " 'f1_micro',\n",
       " 'f1_samples',\n",
       " 'f1_weighted',\n",
       " 'jaccard',\n",
       " 'jaccard_macro',\n",
       " 'jaccard_micro',\n",
       " 'jaccard_samples',\n",
       " 'jaccard_weighted']"
      ]
     },
     "execution_count": 14,
     "metadata": {},
     "output_type": "execute_result"
    }
   ],
   "source": [
    "from sklearn.metrics import SCORERS\n",
    "list(SCORERS.keys())"
   ]
  },
  {
   "cell_type": "code",
   "execution_count": 15,
   "metadata": {
    "id": "CXm_zzZMmqZO"
   },
   "outputs": [],
   "source": [
    "from sklearn.model_selection import cross_validate, cross_val_score"
   ]
  },
  {
   "cell_type": "code",
   "execution_count": 16,
   "metadata": {},
   "outputs": [],
   "source": [
    "model = LinearRegression()\n",
    "\n",
    "scores = cross_validate(model, X_train, y_train, scoring = ['r2', 'neg_mean_absolute_error','neg_mean_squared_error', \\\n",
    "                                                            'neg_root_mean_squared_error'], cv = 10)"
   ]
  },
  {
   "cell_type": "code",
   "execution_count": 17,
   "metadata": {},
   "outputs": [
    {
     "data": {
      "text/html": [
       "<div>\n",
       "<style scoped>\n",
       "    .dataframe tbody tr th:only-of-type {\n",
       "        vertical-align: middle;\n",
       "    }\n",
       "\n",
       "    .dataframe tbody tr th {\n",
       "        vertical-align: top;\n",
       "    }\n",
       "\n",
       "    .dataframe thead th {\n",
       "        text-align: right;\n",
       "    }\n",
       "</style>\n",
       "<table border=\"1\" class=\"dataframe\">\n",
       "  <thead>\n",
       "    <tr style=\"text-align: right;\">\n",
       "      <th></th>\n",
       "      <th>fit_time</th>\n",
       "      <th>score_time</th>\n",
       "      <th>test_r2</th>\n",
       "      <th>test_neg_mean_absolute_error</th>\n",
       "      <th>test_neg_mean_squared_error</th>\n",
       "      <th>test_neg_root_mean_squared_error</th>\n",
       "    </tr>\n",
       "  </thead>\n",
       "  <tbody>\n",
       "    <tr>\n",
       "      <th>1</th>\n",
       "      <td>0.061769</td>\n",
       "      <td>0.005979</td>\n",
       "      <td>0.891659</td>\n",
       "      <td>-1695.161487</td>\n",
       "      <td>-5.380745e+06</td>\n",
       "      <td>-2319.643270</td>\n",
       "    </tr>\n",
       "    <tr>\n",
       "      <th>2</th>\n",
       "      <td>0.056809</td>\n",
       "      <td>0.003987</td>\n",
       "      <td>0.880459</td>\n",
       "      <td>-1792.105460</td>\n",
       "      <td>-7.034688e+06</td>\n",
       "      <td>-2652.298705</td>\n",
       "    </tr>\n",
       "    <tr>\n",
       "      <th>3</th>\n",
       "      <td>0.055815</td>\n",
       "      <td>0.004984</td>\n",
       "      <td>0.896718</td>\n",
       "      <td>-1686.344514</td>\n",
       "      <td>-5.615709e+06</td>\n",
       "      <td>-2369.748705</td>\n",
       "    </tr>\n",
       "    <tr>\n",
       "      <th>4</th>\n",
       "      <td>0.053820</td>\n",
       "      <td>0.003987</td>\n",
       "      <td>0.871376</td>\n",
       "      <td>-1762.794075</td>\n",
       "      <td>-6.607365e+06</td>\n",
       "      <td>-2570.479504</td>\n",
       "    </tr>\n",
       "    <tr>\n",
       "      <th>5</th>\n",
       "      <td>0.047840</td>\n",
       "      <td>0.003987</td>\n",
       "      <td>0.882673</td>\n",
       "      <td>-1714.733535</td>\n",
       "      <td>-6.194759e+06</td>\n",
       "      <td>-2488.927366</td>\n",
       "    </tr>\n",
       "    <tr>\n",
       "      <th>6</th>\n",
       "      <td>0.052822</td>\n",
       "      <td>0.006975</td>\n",
       "      <td>0.892986</td>\n",
       "      <td>-1630.620018</td>\n",
       "      <td>-5.066175e+06</td>\n",
       "      <td>-2250.816583</td>\n",
       "    </tr>\n",
       "    <tr>\n",
       "      <th>7</th>\n",
       "      <td>0.050831</td>\n",
       "      <td>0.003987</td>\n",
       "      <td>0.884653</td>\n",
       "      <td>-1755.550438</td>\n",
       "      <td>-7.029012e+06</td>\n",
       "      <td>-2651.228417</td>\n",
       "    </tr>\n",
       "    <tr>\n",
       "      <th>8</th>\n",
       "      <td>0.049835</td>\n",
       "      <td>0.004983</td>\n",
       "      <td>0.891399</td>\n",
       "      <td>-1811.383715</td>\n",
       "      <td>-6.900400e+06</td>\n",
       "      <td>-2626.861259</td>\n",
       "    </tr>\n",
       "    <tr>\n",
       "      <th>9</th>\n",
       "      <td>0.060798</td>\n",
       "      <td>0.004985</td>\n",
       "      <td>0.890162</td>\n",
       "      <td>-1727.005584</td>\n",
       "      <td>-6.274461e+06</td>\n",
       "      <td>-2504.887489</td>\n",
       "    </tr>\n",
       "    <tr>\n",
       "      <th>10</th>\n",
       "      <td>0.045847</td>\n",
       "      <td>0.003987</td>\n",
       "      <td>0.885395</td>\n",
       "      <td>-1633.841738</td>\n",
       "      <td>-5.573243e+06</td>\n",
       "      <td>-2360.771725</td>\n",
       "    </tr>\n",
       "  </tbody>\n",
       "</table>\n",
       "</div>"
      ],
      "text/plain": [
       "    fit_time  score_time   test_r2  test_neg_mean_absolute_error  \\\n",
       "1   0.061769    0.005979  0.891659                  -1695.161487   \n",
       "2   0.056809    0.003987  0.880459                  -1792.105460   \n",
       "3   0.055815    0.004984  0.896718                  -1686.344514   \n",
       "4   0.053820    0.003987  0.871376                  -1762.794075   \n",
       "5   0.047840    0.003987  0.882673                  -1714.733535   \n",
       "6   0.052822    0.006975  0.892986                  -1630.620018   \n",
       "7   0.050831    0.003987  0.884653                  -1755.550438   \n",
       "8   0.049835    0.004983  0.891399                  -1811.383715   \n",
       "9   0.060798    0.004985  0.890162                  -1727.005584   \n",
       "10  0.045847    0.003987  0.885395                  -1633.841738   \n",
       "\n",
       "    test_neg_mean_squared_error  test_neg_root_mean_squared_error  \n",
       "1                 -5.380745e+06                      -2319.643270  \n",
       "2                 -7.034688e+06                      -2652.298705  \n",
       "3                 -5.615709e+06                      -2369.748705  \n",
       "4                 -6.607365e+06                      -2570.479504  \n",
       "5                 -6.194759e+06                      -2488.927366  \n",
       "6                 -5.066175e+06                      -2250.816583  \n",
       "7                 -7.029012e+06                      -2651.228417  \n",
       "8                 -6.900400e+06                      -2626.861259  \n",
       "9                 -6.274461e+06                      -2504.887489  \n",
       "10                -5.573243e+06                      -2360.771725  "
      ]
     },
     "execution_count": 17,
     "metadata": {},
     "output_type": "execute_result"
    }
   ],
   "source": [
    "pd.DataFrame(scores, index = range(1, 11))"
   ]
  },
  {
   "cell_type": "code",
   "execution_count": 18,
   "metadata": {
    "scrolled": true
   },
   "outputs": [
    {
     "name": "stdout",
     "output_type": "stream",
     "text": [
      "fit_time :  0.053618645668029784\n",
      "score_time :  0.004784059524536133\n",
      "test_r2 :  0.8867479392183725\n",
      "test_neg_mean_absolute_error :  -1720.9540563375558\n",
      "test_neg_mean_squared_error :  -6167655.851098821\n",
      "test_neg_root_mean_squared_error :  -2479.5663022535605\n"
     ]
    }
   ],
   "source": [
    "scores = pd.DataFrame(scores, index = range(1, 11))\n",
    "for i in scores.columns:\n",
    "    print(i, \": \", scores[i].mean())"
   ]
  },
  {
   "cell_type": "code",
   "execution_count": 19,
   "metadata": {},
   "outputs": [
    {
     "name": "stdout",
     "output_type": "stream",
     "text": [
      "Model testing performance:\n",
      "--------------------------\n",
      "R2_score \t: 0.8853655455758314\n",
      "MAE \t\t: 1753.7165475819768\n",
      "MSE \t\t: 6236571.376133306\n",
      "RMSE \t\t: 2497.3128310512693\n"
     ]
    }
   ],
   "source": [
    "eval_metrics(y_test, y_pred)"
   ]
  },
  {
   "cell_type": "code",
   "execution_count": 20,
   "metadata": {},
   "outputs": [
    {
     "data": {
      "image/png": "[encoded data removed]",
      "text/plain": [
       "<Figure size 720x432 with 1 Axes>"
      ]
     },
     "metadata": {
      "needs_background": "light"
     },
     "output_type": "display_data"
    }
   ],
   "source": [
    "sns.lineplot(data = scores.iloc[:,2:]);"
   ]
  },
  {
   "cell_type": "code",
   "execution_count": 21,
   "metadata": {},
   "outputs": [],
   "source": [
    "from sklearn.linear_model import Ridge"
   ]
  },
  {
   "cell_type": "code",
   "execution_count": 22,
   "metadata": {},
   "outputs": [],
   "source": [
    "ridge_model = Ridge(alpha=1)\n",
    "\n",
    "ridge_model.fit(X_train, y_train)\n",
    "\n",
    "y_pred = ridge_model.predict(X_test)"
   ]
  },
  {
   "cell_type": "code",
   "execution_count": 23,
   "metadata": {},
   "outputs": [
    {
     "name": "stdout",
     "output_type": "stream",
     "text": [
      "Model testing performance:\n",
      "--------------------------\n",
      "R2_score \t: 0.8854449102678985\n",
      "MAE \t\t: 1753.6825007555658\n",
      "MSE \t\t: 6232253.620452366\n",
      "RMSE \t\t: 2496.448201035296\n"
     ]
    }
   ],
   "source": [
    "eval_metrics(y_test, y_pred)"
   ]
  },
  {
   "cell_type": "code",
   "execution_count": 24,
   "metadata": {},
   "outputs": [
    {
     "name": "stdout",
     "output_type": "stream",
     "text": [
      "Model testing performance:\n",
      "--------------------------\n",
      "R2_score \t: 0.891674805525177\n",
      "MAE \t\t: 1691.401529927036\n",
      "MSE \t\t: 5905973.219909132\n",
      "RMSE \t\t: 2430.2208171088346\n"
     ]
    }
   ],
   "source": [
    "y_train_pred = ridge_model.predict(X_train)\n",
    "\n",
    "eval_metrics(y_train, y_train_pred)"
   ]
  },
  {
   "cell_type": "code",
   "execution_count": 25,
   "metadata": {},
   "outputs": [
    {
     "data": {
      "text/html": [
       "<div>\n",
       "<style scoped>\n",
       "    .dataframe tbody tr th:only-of-type {\n",
       "        vertical-align: middle;\n",
       "    }\n",
       "\n",
       "    .dataframe tbody tr th {\n",
       "        vertical-align: top;\n",
       "    }\n",
       "\n",
       "    .dataframe thead th {\n",
       "        text-align: right;\n",
       "    }\n",
       "</style>\n",
       "<table border=\"1\" class=\"dataframe\">\n",
       "  <thead>\n",
       "    <tr style=\"text-align: right;\">\n",
       "      <th></th>\n",
       "      <th>ridge_train</th>\n",
       "      <th>ridge_test</th>\n",
       "    </tr>\n",
       "  </thead>\n",
       "  <tbody>\n",
       "    <tr>\n",
       "      <th>rmse</th>\n",
       "      <td>2.430221e+03</td>\n",
       "      <td>2.496448e+03</td>\n",
       "    </tr>\n",
       "    <tr>\n",
       "      <th>mae</th>\n",
       "      <td>1.691402e+03</td>\n",
       "      <td>1.753683e+03</td>\n",
       "    </tr>\n",
       "    <tr>\n",
       "      <th>mse</th>\n",
       "      <td>5.905973e+06</td>\n",
       "      <td>6.232254e+06</td>\n",
       "    </tr>\n",
       "    <tr>\n",
       "      <th>R2</th>\n",
       "      <td>8.916748e-01</td>\n",
       "      <td>8.854449e-01</td>\n",
       "    </tr>\n",
       "  </tbody>\n",
       "</table>\n",
       "</div>"
      ],
      "text/plain": [
       "       ridge_train    ridge_test\n",
       "rmse  2.430221e+03  2.496448e+03\n",
       "mae   1.691402e+03  1.753683e+03\n",
       "mse   5.905973e+06  6.232254e+06\n",
       "R2    8.916748e-01  8.854449e-01"
      ]
     },
     "execution_count": 25,
     "metadata": {},
     "output_type": "execute_result"
    }
   ],
   "source": [
    "ridge_scores = {\"ridge_train\": {\"rmse\" : np.sqrt(mean_squared_error(y_train, y_train_pred)),\n",
    "    \"mae\" : mean_absolute_error(y_train, y_train_pred),\n",
    "    \"mse\" : mean_squared_error(y_train, y_train_pred),\n",
    "    \"R2\" : r2_score(y_train, y_train_pred)}, \n",
    "\n",
    "    \"ridge_test\": {\"rmse\" : np.sqrt(mean_squared_error(y_test, y_pred)),\n",
    "    \"mae\" : mean_absolute_error(y_test, y_pred),\n",
    "    \"mse\" : mean_squared_error(y_test, y_pred),\n",
    "    \"R2\" : r2_score(y_test, y_pred)}}\n",
    "rs = pd.DataFrame(ridge_scores)\n",
    "rs"
   ]
  },
  {
   "cell_type": "code",
   "execution_count": 26,
   "metadata": {},
   "outputs": [],
   "source": [
    "from sklearn.linear_model import RidgeCV"
   ]
  },
  {
   "cell_type": "code",
   "execution_count": 27,
   "metadata": {},
   "outputs": [],
   "source": [
    "alpha_space = np.linspace(0.01, 1, 100)"
   ]
  },
  {
   "cell_type": "code",
   "execution_count": 28,
   "metadata": {},
   "outputs": [],
   "source": [
    "ridge_cv_model = RidgeCV(alphas = alpha_space, cv = 10, scoring = \"neg_root_mean_squared_error\")"
   ]
  },
  {
   "cell_type": "code",
   "execution_count": 29,
   "metadata": {},
   "outputs": [
    {
     "data": {
      "text/plain": [
       "RidgeCV(alphas=array([0.01, 0.02, 0.03, 0.04, 0.05, 0.06, 0.07, 0.08, 0.09, 0.1 , 0.11,\n",
       "       0.12, 0.13, 0.14, 0.15, 0.16, 0.17, 0.18, 0.19, 0.2 , 0.21, 0.22,\n",
       "       0.23, 0.24, 0.25, 0.26, 0.27, 0.28, 0.29, 0.3 , 0.31, 0.32, 0.33,\n",
       "       0.34, 0.35, 0.36, 0.37, 0.38, 0.39, 0.4 , 0.41, 0.42, 0.43, 0.44,\n",
       "       0.45, 0.46, 0.47, 0.48, 0.49, 0.5 , 0.51, 0.52, 0.53, 0.54, 0.55,\n",
       "       0.56, 0.57, 0.58, 0.59, 0.6 , 0.61, 0.62, 0.63, 0.64, 0.65, 0.66,\n",
       "       0.67, 0.68, 0.69, 0.7 , 0.71, 0.72, 0.73, 0.74, 0.75, 0.76, 0.77,\n",
       "       0.78, 0.79, 0.8 , 0.81, 0.82, 0.83, 0.84, 0.85, 0.86, 0.87, 0.88,\n",
       "       0.89, 0.9 , 0.91, 0.92, 0.93, 0.94, 0.95, 0.96, 0.97, 0.98, 0.99,\n",
       "       1.  ]),\n",
       "        cv=10, scoring='neg_root_mean_squared_error')"
      ]
     },
     "execution_count": 29,
     "metadata": {},
     "output_type": "execute_result"
    }
   ],
   "source": [
    "ridge_cv_model.fit(X_train, y_train)"
   ]
  },
  {
   "cell_type": "code",
   "execution_count": 30,
   "metadata": {},
   "outputs": [
    {
     "name": "stdout",
     "output_type": "stream",
     "text": [
      "Model testing performance:\n",
      "--------------------------\n",
      "R2_score \t: 0.8854449102678985\n",
      "MAE \t\t: 1753.6825007555658\n",
      "MSE \t\t: 6232253.620452366\n",
      "RMSE \t\t: 2496.448201035296\n"
     ]
    }
   ],
   "source": [
    "eval_metrics(y_test, y_pred)\n"
   ]
  },
  {
   "cell_type": "code",
   "execution_count": 31,
   "metadata": {},
   "outputs": [],
   "source": [
    "dict_ridge = {\"mae\" : mean_absolute_error(y_test, y_pred),\n",
    "\"mse\" : mean_squared_error(y_test, y_pred),\n",
    "\"rmse\" : np.sqrt(mean_squared_error(y_test, y_pred)),\n",
    "\"R2_score\" : r2_score(y_test, y_pred)}"
   ]
  },
  {
   "cell_type": "code",
   "execution_count": 32,
   "metadata": {},
   "outputs": [
    {
     "data": {
      "text/plain": [
       "{'mae': 1753.6825007555658,\n",
       " 'mse': 6232253.620452366,\n",
       " 'rmse': 2496.448201035296,\n",
       " 'R2_score': 0.8854449102678985}"
      ]
     },
     "execution_count": 32,
     "metadata": {},
     "output_type": "execute_result"
    }
   ],
   "source": [
    "dict_ridge"
   ]
  },
  {
   "cell_type": "code",
   "execution_count": 33,
   "metadata": {
    "scrolled": true
   },
   "outputs": [
    {
     "name": "stdout",
     "output_type": "stream",
     "text": [
      "Model testing performance:\n",
      "--------------------------\n",
      "R2_score \t: 0.891674805525177\n",
      "MAE \t\t: 1691.401529927036\n",
      "MSE \t\t: 5905973.219909132\n",
      "RMSE \t\t: 2430.2208171088346\n"
     ]
    }
   ],
   "source": [
    "y_train_pred = ridge_cv_model.predict(X_train)\n",
    "eval_metrics(y_train, y_train_pred)"
   ]
  },
  {
   "cell_type": "markdown",
   "metadata": {
    "id": "oDfXOSnpmqZO"
   },
   "source": [
    "## 5. Implement Lasso Regression"
   ]
  },
  {
   "cell_type": "markdown",
   "metadata": {
    "id": "icqyxzBymqZO"
   },
   "source": [
    "- Import the modul \n",
    "- Do not forget to scale the data or use Normalize parameter as True(If needed)\n",
    "- Fit the model \n",
    "- Predict the test set \n",
    "- Evaluate model performance (use performance metrics for regression) \n",
    "- Tune alpha hyperparameter by using [cross validation](https://scikit-learn.org/stable/modules/generated/sklearn.linear_model.LassoCV.html) and determine the optimal alpha value.\n",
    "- Fit the model and predict again with the new alpha value.\n",
    "- Compare different evaluation metrics\n",
    "\n",
    "*Note: To understand the importance of the alpha hyperparameter, you can observe the effects of different alpha values on feature coefficants.*"
   ]
  },
  {
   "cell_type": "code",
   "execution_count": 34,
   "metadata": {
    "id": "KbGqu0u5mqZO"
   },
   "outputs": [],
   "source": [
    "from sklearn.linear_model import Lasso, LassoCV\n",
    "\n",
    "lasso_model = Lasso(alpha = 1)\n",
    "lasso_model.fit(X_train, y_train)\n",
    "\n",
    "y_train_pred = lasso_model.predict(X_train)"
   ]
  },
  {
   "cell_type": "code",
   "execution_count": 35,
   "metadata": {},
   "outputs": [
    {
     "name": "stdout",
     "output_type": "stream",
     "text": [
      "Model testing performance:\n",
      "--------------------------\n",
      "R2_score \t: 0.8913828656503525\n",
      "MAE \t\t: 1692.539215032402\n",
      "MSE \t\t: 5921890.007235441\n",
      "RMSE \t\t: 2433.49337521914\n"
     ]
    }
   ],
   "source": [
    "eval_metrics(y_train, y_train_pred)"
   ]
  },
  {
   "cell_type": "code",
   "execution_count": 36,
   "metadata": {},
   "outputs": [
    {
     "name": "stdout",
     "output_type": "stream",
     "text": [
      "Model testing performance:\n",
      "--------------------------\n",
      "R2_score \t: 0.8853061184632274\n",
      "MAE \t\t: 1753.8786033850968\n",
      "MSE \t\t: 6239804.4479989465\n",
      "RMSE \t\t: 2497.960057326567\n"
     ]
    }
   ],
   "source": [
    "y_pred = lasso_model.predict(X_test)\n",
    "\n",
    "eval_metrics(y_test, y_pred)"
   ]
  },
  {
   "cell_type": "code",
   "execution_count": 37,
   "metadata": {},
   "outputs": [
    {
     "data": {
      "text/plain": [
       "1.0"
      ]
     },
     "execution_count": 37,
     "metadata": {},
     "output_type": "execute_result"
    }
   ],
   "source": [
    "lasso_cv_model = LassoCV(alphas = alpha_space, cv = 10, max_iter = 100000) \n",
    "\n",
    "lasso_cv_model.fit(X_train, y_train)\n",
    "lasso_cv_model.alpha_"
   ]
  },
  {
   "cell_type": "code",
   "execution_count": 38,
   "metadata": {},
   "outputs": [],
   "source": [
    "dict_lasso = {\"mae\" : mean_absolute_error(y_test, y_pred),\n",
    "\"mse\" : mean_squared_error(y_test, y_pred),\n",
    "\"rmse\" : np.sqrt(mean_squared_error(y_test, y_pred)),\n",
    "\"R2_score\" : r2_score(y_test, y_pred)}"
   ]
  },
  {
   "cell_type": "code",
   "execution_count": 39,
   "metadata": {},
   "outputs": [
    {
     "data": {
      "text/plain": [
       "{'mae': 1753.8786033850968,\n",
       " 'mse': 6239804.4479989465,\n",
       " 'rmse': 2497.960057326567,\n",
       " 'R2_score': 0.8853061184632274}"
      ]
     },
     "execution_count": 39,
     "metadata": {},
     "output_type": "execute_result"
    }
   ],
   "source": [
    "dict_lasso"
   ]
  },
  {
   "cell_type": "markdown",
   "metadata": {
    "id": "qpoOypMbmqZO"
   },
   "source": [
    "## 6. Implement Elastic-Net"
   ]
  },
  {
   "cell_type": "markdown",
   "metadata": {
    "id": "El7SNJUemqZO"
   },
   "source": [
    "- Import the modul \n",
    "- Do not forget to scale the data or use Normalize parameter as True(If needed)\n",
    "- Fit the model \n",
    "- Predict the test set \n",
    "- Evaluate model performance (use performance metrics for regression) \n",
    "- Tune alpha hyperparameter by using [GridSearchCV](https://scikit-learn.org/stable/modules/generated/sklearn.model_selection.GridSearchCV.html) and determine the optimal alpha value.\n",
    "- Fit the model and predict again with the new alpha value.\n",
    "- Compare different evaluation metrics"
   ]
  },
  {
   "cell_type": "code",
   "execution_count": 40,
   "metadata": {
    "id": "XKVr6v2JmqZO"
   },
   "outputs": [
    {
     "data": {
      "text/plain": [
       "ElasticNet()"
      ]
     },
     "execution_count": 40,
     "metadata": {},
     "output_type": "execute_result"
    }
   ],
   "source": [
    "from sklearn.linear_model import ElasticNet, ElasticNetCV\n",
    "\n",
    "elastic_model = ElasticNet()\n",
    "elastic_model.fit(X_train, y_train)"
   ]
  },
  {
   "cell_type": "code",
   "execution_count": 41,
   "metadata": {},
   "outputs": [
    {
     "data": {
      "text/plain": [
       "0.5"
      ]
     },
     "execution_count": 41,
     "metadata": {},
     "output_type": "execute_result"
    }
   ],
   "source": [
    "elastic_model.l1_ratio"
   ]
  },
  {
   "cell_type": "code",
   "execution_count": 42,
   "metadata": {},
   "outputs": [
    {
     "data": {
      "text/plain": [
       "1.0"
      ]
     },
     "execution_count": 42,
     "metadata": {},
     "output_type": "execute_result"
    }
   ],
   "source": [
    "elastic_model.alpha"
   ]
  },
  {
   "cell_type": "code",
   "execution_count": 43,
   "metadata": {},
   "outputs": [
    {
     "name": "stdout",
     "output_type": "stream",
     "text": [
      "Model testing performance:\n",
      "--------------------------\n",
      "R2_score \t: 0.8072198888883049\n",
      "MAE \t\t: 2343.9044757264164\n",
      "MSE \t\t: 10510520.466422068\n",
      "RMSE \t\t: 3241.99328599275\n"
     ]
    }
   ],
   "source": [
    "y_train_pred = elastic_model.predict(X_train)\n",
    "eval_metrics(y_train, y_train_pred)"
   ]
  },
  {
   "cell_type": "code",
   "execution_count": 44,
   "metadata": {
    "scrolled": true
   },
   "outputs": [
    {
     "name": "stdout",
     "output_type": "stream",
     "text": [
      "Model testing performance:\n",
      "--------------------------\n",
      "R2_score \t: 0.8089102396639265\n",
      "MAE \t\t: 2343.1407398791366\n",
      "MSE \t\t: 10396044.850306984\n",
      "RMSE \t\t: 3224.2898210779663\n"
     ]
    }
   ],
   "source": [
    "y_pred = elastic_model.predict(X_test)\n",
    "eval_metrics(y_test, y_pred)"
   ]
  },
  {
   "cell_type": "code",
   "execution_count": 45,
   "metadata": {},
   "outputs": [],
   "source": [
    "elastic_cv_model = ElasticNetCV(alphas = alpha_space, l1_ratio=[0.1, 0.5, 0.7,0.9, 0.95, 1], cv = 10, max_iter = 100000)"
   ]
  },
  {
   "cell_type": "code",
   "execution_count": 46,
   "metadata": {},
   "outputs": [
    {
     "data": {
      "text/plain": [
       "ElasticNetCV(alphas=array([0.01, 0.02, 0.03, 0.04, 0.05, 0.06, 0.07, 0.08, 0.09, 0.1 , 0.11,\n",
       "       0.12, 0.13, 0.14, 0.15, 0.16, 0.17, 0.18, 0.19, 0.2 , 0.21, 0.22,\n",
       "       0.23, 0.24, 0.25, 0.26, 0.27, 0.28, 0.29, 0.3 , 0.31, 0.32, 0.33,\n",
       "       0.34, 0.35, 0.36, 0.37, 0.38, 0.39, 0.4 , 0.41, 0.42, 0.43, 0.44,\n",
       "       0.45, 0.46, 0.47, 0.48, 0.49, 0.5 , 0.51, 0.52, 0.53, 0.54, 0.55,\n",
       "       0.56, 0.57, 0.58, 0.59, 0.6 , 0.61, 0.62, 0.63, 0.64, 0.65, 0.66,\n",
       "       0.67, 0.68, 0.69, 0.7 , 0.71, 0.72, 0.73, 0.74, 0.75, 0.76, 0.77,\n",
       "       0.78, 0.79, 0.8 , 0.81, 0.82, 0.83, 0.84, 0.85, 0.86, 0.87, 0.88,\n",
       "       0.89, 0.9 , 0.91, 0.92, 0.93, 0.94, 0.95, 0.96, 0.97, 0.98, 0.99,\n",
       "       1.  ]),\n",
       "             cv=10, l1_ratio=[0.1, 0.5, 0.7, 0.9, 0.95, 1], max_iter=100000)"
      ]
     },
     "execution_count": 46,
     "metadata": {},
     "output_type": "execute_result"
    }
   ],
   "source": [
    "elastic_cv_model.fit(X_train, y_train)"
   ]
  },
  {
   "cell_type": "code",
   "execution_count": 47,
   "metadata": {},
   "outputs": [],
   "source": [
    "dict_elastic = {\"mae\" : mean_absolute_error(y_test, y_pred),\n",
    "\"mse\" : mean_squared_error(y_test, y_pred),\n",
    "\"rmse\" : np.sqrt(mean_squared_error(y_test, y_pred)),\n",
    "\"R2_score\" : r2_score(y_test, y_pred)}"
   ]
  },
  {
   "cell_type": "code",
   "execution_count": 48,
   "metadata": {},
   "outputs": [
    {
     "data": {
      "text/plain": [
       "{'mae': 2343.1407398791366,\n",
       " 'mse': 10396044.850306984,\n",
       " 'rmse': 3224.2898210779663,\n",
       " 'R2_score': 0.8089102396639265}"
      ]
     },
     "execution_count": 48,
     "metadata": {},
     "output_type": "execute_result"
    }
   ],
   "source": [
    "dict_elastic"
   ]
  },
  {
   "cell_type": "markdown",
   "metadata": {},
   "source": [
    "### Grid Search"
   ]
  },
  {
   "cell_type": "code",
   "execution_count": 49,
   "metadata": {},
   "outputs": [],
   "source": [
    "from sklearn.model_selection import GridSearchCV"
   ]
  },
  {
   "cell_type": "code",
   "execution_count": 50,
   "metadata": {},
   "outputs": [],
   "source": [
    "elastic_model = ElasticNet(max_iter=10000)"
   ]
  },
  {
   "cell_type": "code",
   "execution_count": 51,
   "metadata": {},
   "outputs": [],
   "source": [
    "param_grid ={\"alpha\":[0.01, 0.02, 0.1, 1, 5, 10, 50, 100],\n",
    "            \"l1_ratio\":[0.1, 0.5, 0.7, 0.9, 0.95, 0.99, 1]}"
   ]
  },
  {
   "cell_type": "code",
   "execution_count": 52,
   "metadata": {},
   "outputs": [],
   "source": [
    "grid_model = GridSearchCV(estimator = elastic_model, param_grid = param_grid, scoring = 'neg_root_mean_squared_error',\n",
    "                         cv =10, verbose =2)"
   ]
  },
  {
   "cell_type": "code",
   "execution_count": 53,
   "metadata": {
    "collapsed": true
   },
   "outputs": [
    {
     "name": "stdout",
     "output_type": "stream",
     "text": [
      "Fitting 10 folds for each of 56 candidates, totalling 560 fits\n",
      "[CV] END ...........................alpha=0.01, l1_ratio=0.1; total time=   0.3s\n",
      "[CV] END ...........................alpha=0.01, l1_ratio=0.1; total time=   0.3s\n",
      "[CV] END ...........................alpha=0.01, l1_ratio=0.1; total time=   0.3s\n",
      "[CV] END ...........................alpha=0.01, l1_ratio=0.1; total time=   0.2s\n",
      "[CV] END ...........................alpha=0.01, l1_ratio=0.1; total time=   0.3s\n",
      "[CV] END ...........................alpha=0.01, l1_ratio=0.1; total time=   0.2s\n",
      "[CV] END ...........................alpha=0.01, l1_ratio=0.1; total time=   0.3s\n",
      "[CV] END ...........................alpha=0.01, l1_ratio=0.1; total time=   0.3s\n",
      "[CV] END ...........................alpha=0.01, l1_ratio=0.1; total time=   0.3s\n",
      "[CV] END ...........................alpha=0.01, l1_ratio=0.1; total time=   0.3s\n",
      "[CV] END ...........................alpha=0.01, l1_ratio=0.5; total time=   0.4s\n",
      "[CV] END ...........................alpha=0.01, l1_ratio=0.5; total time=   0.4s\n",
      "[CV] END ...........................alpha=0.01, l1_ratio=0.5; total time=   0.4s\n",
      "[CV] END ...........................alpha=0.01, l1_ratio=0.5; total time=   0.4s\n",
      "[CV] END ...........................alpha=0.01, l1_ratio=0.5; total time=   0.4s\n",
      "[CV] END ...........................alpha=0.01, l1_ratio=0.5; total time=   0.4s\n",
      "[CV] END ...........................alpha=0.01, l1_ratio=0.5; total time=   0.4s\n",
      "[CV] END ...........................alpha=0.01, l1_ratio=0.5; total time=   0.4s\n",
      "[CV] END ...........................alpha=0.01, l1_ratio=0.5; total time=   0.4s\n",
      "[CV] END ...........................alpha=0.01, l1_ratio=0.5; total time=   0.4s\n",
      "[CV] END ...........................alpha=0.01, l1_ratio=0.7; total time=   0.6s\n",
      "[CV] END ...........................alpha=0.01, l1_ratio=0.7; total time=   0.5s\n",
      "[CV] END ...........................alpha=0.01, l1_ratio=0.7; total time=   0.5s\n",
      "[CV] END ...........................alpha=0.01, l1_ratio=0.7; total time=   0.6s\n",
      "[CV] END ...........................alpha=0.01, l1_ratio=0.7; total time=   0.6s\n",
      "[CV] END ...........................alpha=0.01, l1_ratio=0.7; total time=   0.6s\n",
      "[CV] END ...........................alpha=0.01, l1_ratio=0.7; total time=   0.5s\n",
      "[CV] END ...........................alpha=0.01, l1_ratio=0.7; total time=   0.6s\n",
      "[CV] END ...........................alpha=0.01, l1_ratio=0.7; total time=   0.5s\n",
      "[CV] END ...........................alpha=0.01, l1_ratio=0.7; total time=   0.5s\n",
      "[CV] END ...........................alpha=0.01, l1_ratio=0.9; total time=   1.3s\n",
      "[CV] END ...........................alpha=0.01, l1_ratio=0.9; total time=   1.4s\n",
      "[CV] END ...........................alpha=0.01, l1_ratio=0.9; total time=   1.7s\n",
      "[CV] END ...........................alpha=0.01, l1_ratio=0.9; total time=   1.5s\n",
      "[CV] END ...........................alpha=0.01, l1_ratio=0.9; total time=   1.3s\n",
      "[CV] END ...........................alpha=0.01, l1_ratio=0.9; total time=   1.4s\n",
      "[CV] END ...........................alpha=0.01, l1_ratio=0.9; total time=   1.4s\n",
      "[CV] END ...........................alpha=0.01, l1_ratio=0.9; total time=   1.7s\n",
      "[CV] END ...........................alpha=0.01, l1_ratio=0.9; total time=   1.6s\n",
      "[CV] END ...........................alpha=0.01, l1_ratio=0.9; total time=   1.6s\n",
      "[CV] END ..........................alpha=0.01, l1_ratio=0.95; total time=   2.8s\n",
      "[CV] END ..........................alpha=0.01, l1_ratio=0.95; total time=   2.6s\n",
      "[CV] END ..........................alpha=0.01, l1_ratio=0.95; total time=   2.3s\n",
      "[CV] END ..........................alpha=0.01, l1_ratio=0.95; total time=   2.2s\n",
      "[CV] END ..........................alpha=0.01, l1_ratio=0.95; total time=   2.2s\n",
      "[CV] END ..........................alpha=0.01, l1_ratio=0.95; total time=   2.3s\n",
      "[CV] END ..........................alpha=0.01, l1_ratio=0.95; total time=   2.1s\n",
      "[CV] END ..........................alpha=0.01, l1_ratio=0.95; total time=   2.2s\n",
      "[CV] END ..........................alpha=0.01, l1_ratio=0.95; total time=   2.3s\n",
      "[CV] END ..........................alpha=0.01, l1_ratio=0.95; total time=   2.1s\n",
      "[CV] END ..........................alpha=0.01, l1_ratio=0.99; total time=   9.3s\n",
      "[CV] END ..........................alpha=0.01, l1_ratio=0.99; total time=   9.4s\n",
      "[CV] END ..........................alpha=0.01, l1_ratio=0.99; total time=   9.2s\n",
      "[CV] END ..........................alpha=0.01, l1_ratio=0.99; total time=   9.1s\n",
      "[CV] END ..........................alpha=0.01, l1_ratio=0.99; total time=   9.4s\n",
      "[CV] END ..........................alpha=0.01, l1_ratio=0.99; total time=   8.8s\n",
      "[CV] END ..........................alpha=0.01, l1_ratio=0.99; total time=   9.1s\n",
      "[CV] END ..........................alpha=0.01, l1_ratio=0.99; total time=   8.8s\n",
      "[CV] END ..........................alpha=0.01, l1_ratio=0.99; total time=  11.7s\n",
      "[CV] END ..........................alpha=0.01, l1_ratio=0.99; total time=   9.2s\n",
      "[CV] END .............................alpha=0.01, l1_ratio=1; total time=  17.0s\n",
      "[CV] END .............................alpha=0.01, l1_ratio=1; total time=  16.6s\n",
      "[CV] END .............................alpha=0.01, l1_ratio=1; total time=  16.3s\n",
      "[CV] END .............................alpha=0.01, l1_ratio=1; total time=  16.7s\n",
      "[CV] END .............................alpha=0.01, l1_ratio=1; total time=  16.4s\n",
      "[CV] END .............................alpha=0.01, l1_ratio=1; total time=  16.8s\n",
      "[CV] END .............................alpha=0.01, l1_ratio=1; total time=  17.5s\n",
      "[CV] END .............................alpha=0.01, l1_ratio=1; total time=  25.9s\n",
      "[CV] END .............................alpha=0.01, l1_ratio=1; total time=  30.1s\n",
      "[CV] END .............................alpha=0.01, l1_ratio=1; total time=  29.5s\n",
      "[CV] END ...........................alpha=0.02, l1_ratio=0.1; total time=   0.3s\n",
      "[CV] END ...........................alpha=0.02, l1_ratio=0.1; total time=   0.4s\n",
      "[CV] END ...........................alpha=0.02, l1_ratio=0.1; total time=   0.5s\n",
      "[CV] END ...........................alpha=0.02, l1_ratio=0.1; total time=   0.4s\n",
      "[CV] END ...........................alpha=0.02, l1_ratio=0.1; total time=   0.3s\n",
      "[CV] END ...........................alpha=0.02, l1_ratio=0.1; total time=   0.3s\n",
      "[CV] END ...........................alpha=0.02, l1_ratio=0.1; total time=   0.3s\n",
      "[CV] END ...........................alpha=0.02, l1_ratio=0.1; total time=   0.2s\n",
      "[CV] END ...........................alpha=0.02, l1_ratio=0.1; total time=   0.3s\n",
      "[CV] END ...........................alpha=0.02, l1_ratio=0.1; total time=   0.3s\n",
      "[CV] END ...........................alpha=0.02, l1_ratio=0.5; total time=   0.3s\n",
      "[CV] END ...........................alpha=0.02, l1_ratio=0.5; total time=   0.3s\n",
      "[CV] END ...........................alpha=0.02, l1_ratio=0.5; total time=   0.3s\n",
      "[CV] END ...........................alpha=0.02, l1_ratio=0.5; total time=   0.2s\n",
      "[CV] END ...........................alpha=0.02, l1_ratio=0.5; total time=   0.3s\n",
      "[CV] END ...........................alpha=0.02, l1_ratio=0.5; total time=   0.3s\n",
      "[CV] END ...........................alpha=0.02, l1_ratio=0.5; total time=   0.2s\n",
      "[CV] END ...........................alpha=0.02, l1_ratio=0.5; total time=   0.2s\n",
      "[CV] END ...........................alpha=0.02, l1_ratio=0.5; total time=   0.3s\n",
      "[CV] END ...........................alpha=0.02, l1_ratio=0.5; total time=   0.3s\n",
      "[CV] END ...........................alpha=0.02, l1_ratio=0.7; total time=   0.3s\n",
      "[CV] END ...........................alpha=0.02, l1_ratio=0.7; total time=   0.4s\n",
      "[CV] END ...........................alpha=0.02, l1_ratio=0.7; total time=   0.4s\n",
      "[CV] END ...........................alpha=0.02, l1_ratio=0.7; total time=   0.4s\n",
      "[CV] END ...........................alpha=0.02, l1_ratio=0.7; total time=   0.4s\n",
      "[CV] END ...........................alpha=0.02, l1_ratio=0.7; total time=   0.4s\n",
      "[CV] END ...........................alpha=0.02, l1_ratio=0.7; total time=   0.3s\n",
      "[CV] END ...........................alpha=0.02, l1_ratio=0.7; total time=   0.5s\n",
      "[CV] END ...........................alpha=0.02, l1_ratio=0.7; total time=   0.5s\n",
      "[CV] END ...........................alpha=0.02, l1_ratio=0.7; total time=   0.4s\n",
      "[CV] END ...........................alpha=0.02, l1_ratio=0.9; total time=   0.9s\n",
      "[CV] END ...........................alpha=0.02, l1_ratio=0.9; total time=   0.9s\n",
      "[CV] END ...........................alpha=0.02, l1_ratio=0.9; total time=   0.9s\n"
     ]
    },
    {
     "ename": "KeyboardInterrupt",
     "evalue": "",
     "output_type": "error",
     "traceback": [
      "\u001b[1;31m---------------------------------------------------------------------------\u001b[0m",
      "\u001b[1;31mKeyboardInterrupt\u001b[0m                         Traceback (most recent call last)",
      "\u001b[1;32m<ipython-input-53-098a9345b705>\u001b[0m in \u001b[0;36m<module>\u001b[1;34m\u001b[0m\n\u001b[1;32m----> 1\u001b[1;33m \u001b[0mgrid_model\u001b[0m\u001b[1;33m.\u001b[0m\u001b[0mfit\u001b[0m\u001b[1;33m(\u001b[0m\u001b[0mX_train\u001b[0m\u001b[1;33m,\u001b[0m \u001b[0my_train\u001b[0m\u001b[1;33m)\u001b[0m\u001b[1;33m\u001b[0m\u001b[1;33m\u001b[0m\u001b[0m\n\u001b[0m",
      "\u001b[1;32m~\\anaconda3\\lib\\site-packages\\sklearn\\utils\\validation.py\u001b[0m in \u001b[0;36minner_f\u001b[1;34m(*args, **kwargs)\u001b[0m\n\u001b[0;32m     61\u001b[0m             \u001b[0mextra_args\u001b[0m \u001b[1;33m=\u001b[0m \u001b[0mlen\u001b[0m\u001b[1;33m(\u001b[0m\u001b[0margs\u001b[0m\u001b[1;33m)\u001b[0m \u001b[1;33m-\u001b[0m \u001b[0mlen\u001b[0m\u001b[1;33m(\u001b[0m\u001b[0mall_args\u001b[0m\u001b[1;33m)\u001b[0m\u001b[1;33m\u001b[0m\u001b[1;33m\u001b[0m\u001b[0m\n\u001b[0;32m     62\u001b[0m             \u001b[1;32mif\u001b[0m \u001b[0mextra_args\u001b[0m \u001b[1;33m<=\u001b[0m \u001b[1;36m0\u001b[0m\u001b[1;33m:\u001b[0m\u001b[1;33m\u001b[0m\u001b[1;33m\u001b[0m\u001b[0m\n\u001b[1;32m---> 63\u001b[1;33m                 \u001b[1;32mreturn\u001b[0m \u001b[0mf\u001b[0m\u001b[1;33m(\u001b[0m\u001b[1;33m*\u001b[0m\u001b[0margs\u001b[0m\u001b[1;33m,\u001b[0m \u001b[1;33m**\u001b[0m\u001b[0mkwargs\u001b[0m\u001b[1;33m)\u001b[0m\u001b[1;33m\u001b[0m\u001b[1;33m\u001b[0m\u001b[0m\n\u001b[0m\u001b[0;32m     64\u001b[0m \u001b[1;33m\u001b[0m\u001b[0m\n\u001b[0;32m     65\u001b[0m             \u001b[1;31m# extra_args > 0\u001b[0m\u001b[1;33m\u001b[0m\u001b[1;33m\u001b[0m\u001b[1;33m\u001b[0m\u001b[0m\n",
      "\u001b[1;32m~\\anaconda3\\lib\\site-packages\\sklearn\\model_selection\\_search.py\u001b[0m in \u001b[0;36mfit\u001b[1;34m(self, X, y, groups, **fit_params)\u001b[0m\n\u001b[0;32m    839\u001b[0m                 \u001b[1;32mreturn\u001b[0m \u001b[0mresults\u001b[0m\u001b[1;33m\u001b[0m\u001b[1;33m\u001b[0m\u001b[0m\n\u001b[0;32m    840\u001b[0m \u001b[1;33m\u001b[0m\u001b[0m\n\u001b[1;32m--> 841\u001b[1;33m             \u001b[0mself\u001b[0m\u001b[1;33m.\u001b[0m\u001b[0m_run_search\u001b[0m\u001b[1;33m(\u001b[0m\u001b[0mevaluate_candidates\u001b[0m\u001b[1;33m)\u001b[0m\u001b[1;33m\u001b[0m\u001b[1;33m\u001b[0m\u001b[0m\n\u001b[0m\u001b[0;32m    842\u001b[0m \u001b[1;33m\u001b[0m\u001b[0m\n\u001b[0;32m    843\u001b[0m             \u001b[1;31m# multimetric is determined here because in the case of a callable\u001b[0m\u001b[1;33m\u001b[0m\u001b[1;33m\u001b[0m\u001b[1;33m\u001b[0m\u001b[0m\n",
      "\u001b[1;32m~\\anaconda3\\lib\\site-packages\\sklearn\\model_selection\\_search.py\u001b[0m in \u001b[0;36m_run_search\u001b[1;34m(self, evaluate_candidates)\u001b[0m\n\u001b[0;32m   1286\u001b[0m     \u001b[1;32mdef\u001b[0m \u001b[0m_run_search\u001b[0m\u001b[1;33m(\u001b[0m\u001b[0mself\u001b[0m\u001b[1;33m,\u001b[0m \u001b[0mevaluate_candidates\u001b[0m\u001b[1;33m)\u001b[0m\u001b[1;33m:\u001b[0m\u001b[1;33m\u001b[0m\u001b[1;33m\u001b[0m\u001b[0m\n\u001b[0;32m   1287\u001b[0m         \u001b[1;34m\"\"\"Search all candidates in param_grid\"\"\"\u001b[0m\u001b[1;33m\u001b[0m\u001b[1;33m\u001b[0m\u001b[0m\n\u001b[1;32m-> 1288\u001b[1;33m         \u001b[0mevaluate_candidates\u001b[0m\u001b[1;33m(\u001b[0m\u001b[0mParameterGrid\u001b[0m\u001b[1;33m(\u001b[0m\u001b[0mself\u001b[0m\u001b[1;33m.\u001b[0m\u001b[0mparam_grid\u001b[0m\u001b[1;33m)\u001b[0m\u001b[1;33m)\u001b[0m\u001b[1;33m\u001b[0m\u001b[1;33m\u001b[0m\u001b[0m\n\u001b[0m\u001b[0;32m   1289\u001b[0m \u001b[1;33m\u001b[0m\u001b[0m\n\u001b[0;32m   1290\u001b[0m \u001b[1;33m\u001b[0m\u001b[0m\n",
      "\u001b[1;32m~\\anaconda3\\lib\\site-packages\\sklearn\\model_selection\\_search.py\u001b[0m in \u001b[0;36mevaluate_candidates\u001b[1;34m(candidate_params, cv, more_results)\u001b[0m\n\u001b[0;32m    793\u001b[0m                               n_splits, n_candidates, n_candidates * n_splits))\n\u001b[0;32m    794\u001b[0m \u001b[1;33m\u001b[0m\u001b[0m\n\u001b[1;32m--> 795\u001b[1;33m                 out = parallel(delayed(_fit_and_score)(clone(base_estimator),\n\u001b[0m\u001b[0;32m    796\u001b[0m                                                        \u001b[0mX\u001b[0m\u001b[1;33m,\u001b[0m \u001b[0my\u001b[0m\u001b[1;33m,\u001b[0m\u001b[1;33m\u001b[0m\u001b[1;33m\u001b[0m\u001b[0m\n\u001b[0;32m    797\u001b[0m                                                        \u001b[0mtrain\u001b[0m\u001b[1;33m=\u001b[0m\u001b[0mtrain\u001b[0m\u001b[1;33m,\u001b[0m \u001b[0mtest\u001b[0m\u001b[1;33m=\u001b[0m\u001b[0mtest\u001b[0m\u001b[1;33m,\u001b[0m\u001b[1;33m\u001b[0m\u001b[1;33m\u001b[0m\u001b[0m\n",
      "\u001b[1;32m~\\anaconda3\\lib\\site-packages\\joblib\\parallel.py\u001b[0m in \u001b[0;36m__call__\u001b[1;34m(self, iterable)\u001b[0m\n\u001b[0;32m   1042\u001b[0m                 \u001b[0mself\u001b[0m\u001b[1;33m.\u001b[0m\u001b[0m_iterating\u001b[0m \u001b[1;33m=\u001b[0m \u001b[0mself\u001b[0m\u001b[1;33m.\u001b[0m\u001b[0m_original_iterator\u001b[0m \u001b[1;32mis\u001b[0m \u001b[1;32mnot\u001b[0m \u001b[1;32mNone\u001b[0m\u001b[1;33m\u001b[0m\u001b[1;33m\u001b[0m\u001b[0m\n\u001b[0;32m   1043\u001b[0m \u001b[1;33m\u001b[0m\u001b[0m\n\u001b[1;32m-> 1044\u001b[1;33m             \u001b[1;32mwhile\u001b[0m \u001b[0mself\u001b[0m\u001b[1;33m.\u001b[0m\u001b[0mdispatch_one_batch\u001b[0m\u001b[1;33m(\u001b[0m\u001b[0miterator\u001b[0m\u001b[1;33m)\u001b[0m\u001b[1;33m:\u001b[0m\u001b[1;33m\u001b[0m\u001b[1;33m\u001b[0m\u001b[0m\n\u001b[0m\u001b[0;32m   1045\u001b[0m                 \u001b[1;32mpass\u001b[0m\u001b[1;33m\u001b[0m\u001b[1;33m\u001b[0m\u001b[0m\n\u001b[0;32m   1046\u001b[0m \u001b[1;33m\u001b[0m\u001b[0m\n",
      "\u001b[1;32m~\\anaconda3\\lib\\site-packages\\joblib\\parallel.py\u001b[0m in \u001b[0;36mdispatch_one_batch\u001b[1;34m(self, iterator)\u001b[0m\n\u001b[0;32m    857\u001b[0m                 \u001b[1;32mreturn\u001b[0m \u001b[1;32mFalse\u001b[0m\u001b[1;33m\u001b[0m\u001b[1;33m\u001b[0m\u001b[0m\n\u001b[0;32m    858\u001b[0m             \u001b[1;32melse\u001b[0m\u001b[1;33m:\u001b[0m\u001b[1;33m\u001b[0m\u001b[1;33m\u001b[0m\u001b[0m\n\u001b[1;32m--> 859\u001b[1;33m                 \u001b[0mself\u001b[0m\u001b[1;33m.\u001b[0m\u001b[0m_dispatch\u001b[0m\u001b[1;33m(\u001b[0m\u001b[0mtasks\u001b[0m\u001b[1;33m)\u001b[0m\u001b[1;33m\u001b[0m\u001b[1;33m\u001b[0m\u001b[0m\n\u001b[0m\u001b[0;32m    860\u001b[0m                 \u001b[1;32mreturn\u001b[0m \u001b[1;32mTrue\u001b[0m\u001b[1;33m\u001b[0m\u001b[1;33m\u001b[0m\u001b[0m\n\u001b[0;32m    861\u001b[0m \u001b[1;33m\u001b[0m\u001b[0m\n",
      "\u001b[1;32m~\\anaconda3\\lib\\site-packages\\joblib\\parallel.py\u001b[0m in \u001b[0;36m_dispatch\u001b[1;34m(self, batch)\u001b[0m\n\u001b[0;32m    775\u001b[0m         \u001b[1;32mwith\u001b[0m \u001b[0mself\u001b[0m\u001b[1;33m.\u001b[0m\u001b[0m_lock\u001b[0m\u001b[1;33m:\u001b[0m\u001b[1;33m\u001b[0m\u001b[1;33m\u001b[0m\u001b[0m\n\u001b[0;32m    776\u001b[0m             \u001b[0mjob_idx\u001b[0m \u001b[1;33m=\u001b[0m \u001b[0mlen\u001b[0m\u001b[1;33m(\u001b[0m\u001b[0mself\u001b[0m\u001b[1;33m.\u001b[0m\u001b[0m_jobs\u001b[0m\u001b[1;33m)\u001b[0m\u001b[1;33m\u001b[0m\u001b[1;33m\u001b[0m\u001b[0m\n\u001b[1;32m--> 777\u001b[1;33m             \u001b[0mjob\u001b[0m \u001b[1;33m=\u001b[0m \u001b[0mself\u001b[0m\u001b[1;33m.\u001b[0m\u001b[0m_backend\u001b[0m\u001b[1;33m.\u001b[0m\u001b[0mapply_async\u001b[0m\u001b[1;33m(\u001b[0m\u001b[0mbatch\u001b[0m\u001b[1;33m,\u001b[0m \u001b[0mcallback\u001b[0m\u001b[1;33m=\u001b[0m\u001b[0mcb\u001b[0m\u001b[1;33m)\u001b[0m\u001b[1;33m\u001b[0m\u001b[1;33m\u001b[0m\u001b[0m\n\u001b[0m\u001b[0;32m    778\u001b[0m             \u001b[1;31m# A job can complete so quickly than its callback is\u001b[0m\u001b[1;33m\u001b[0m\u001b[1;33m\u001b[0m\u001b[1;33m\u001b[0m\u001b[0m\n\u001b[0;32m    779\u001b[0m             \u001b[1;31m# called before we get here, causing self._jobs to\u001b[0m\u001b[1;33m\u001b[0m\u001b[1;33m\u001b[0m\u001b[1;33m\u001b[0m\u001b[0m\n",
      "\u001b[1;32m~\\anaconda3\\lib\\site-packages\\joblib\\_parallel_backends.py\u001b[0m in \u001b[0;36mapply_async\u001b[1;34m(self, func, callback)\u001b[0m\n\u001b[0;32m    206\u001b[0m     \u001b[1;32mdef\u001b[0m \u001b[0mapply_async\u001b[0m\u001b[1;33m(\u001b[0m\u001b[0mself\u001b[0m\u001b[1;33m,\u001b[0m \u001b[0mfunc\u001b[0m\u001b[1;33m,\u001b[0m \u001b[0mcallback\u001b[0m\u001b[1;33m=\u001b[0m\u001b[1;32mNone\u001b[0m\u001b[1;33m)\u001b[0m\u001b[1;33m:\u001b[0m\u001b[1;33m\u001b[0m\u001b[1;33m\u001b[0m\u001b[0m\n\u001b[0;32m    207\u001b[0m         \u001b[1;34m\"\"\"Schedule a func to be run\"\"\"\u001b[0m\u001b[1;33m\u001b[0m\u001b[1;33m\u001b[0m\u001b[0m\n\u001b[1;32m--> 208\u001b[1;33m         \u001b[0mresult\u001b[0m \u001b[1;33m=\u001b[0m \u001b[0mImmediateResult\u001b[0m\u001b[1;33m(\u001b[0m\u001b[0mfunc\u001b[0m\u001b[1;33m)\u001b[0m\u001b[1;33m\u001b[0m\u001b[1;33m\u001b[0m\u001b[0m\n\u001b[0m\u001b[0;32m    209\u001b[0m         \u001b[1;32mif\u001b[0m \u001b[0mcallback\u001b[0m\u001b[1;33m:\u001b[0m\u001b[1;33m\u001b[0m\u001b[1;33m\u001b[0m\u001b[0m\n\u001b[0;32m    210\u001b[0m             \u001b[0mcallback\u001b[0m\u001b[1;33m(\u001b[0m\u001b[0mresult\u001b[0m\u001b[1;33m)\u001b[0m\u001b[1;33m\u001b[0m\u001b[1;33m\u001b[0m\u001b[0m\n",
      "\u001b[1;32m~\\anaconda3\\lib\\site-packages\\joblib\\_parallel_backends.py\u001b[0m in \u001b[0;36m__init__\u001b[1;34m(self, batch)\u001b[0m\n\u001b[0;32m    570\u001b[0m         \u001b[1;31m# Don't delay the application, to avoid keeping the input\u001b[0m\u001b[1;33m\u001b[0m\u001b[1;33m\u001b[0m\u001b[1;33m\u001b[0m\u001b[0m\n\u001b[0;32m    571\u001b[0m         \u001b[1;31m# arguments in memory\u001b[0m\u001b[1;33m\u001b[0m\u001b[1;33m\u001b[0m\u001b[1;33m\u001b[0m\u001b[0m\n\u001b[1;32m--> 572\u001b[1;33m         \u001b[0mself\u001b[0m\u001b[1;33m.\u001b[0m\u001b[0mresults\u001b[0m \u001b[1;33m=\u001b[0m \u001b[0mbatch\u001b[0m\u001b[1;33m(\u001b[0m\u001b[1;33m)\u001b[0m\u001b[1;33m\u001b[0m\u001b[1;33m\u001b[0m\u001b[0m\n\u001b[0m\u001b[0;32m    573\u001b[0m \u001b[1;33m\u001b[0m\u001b[0m\n\u001b[0;32m    574\u001b[0m     \u001b[1;32mdef\u001b[0m \u001b[0mget\u001b[0m\u001b[1;33m(\u001b[0m\u001b[0mself\u001b[0m\u001b[1;33m)\u001b[0m\u001b[1;33m:\u001b[0m\u001b[1;33m\u001b[0m\u001b[1;33m\u001b[0m\u001b[0m\n",
      "\u001b[1;32m~\\anaconda3\\lib\\site-packages\\joblib\\parallel.py\u001b[0m in \u001b[0;36m__call__\u001b[1;34m(self)\u001b[0m\n\u001b[0;32m    260\u001b[0m         \u001b[1;31m# change the default number of processes to -1\u001b[0m\u001b[1;33m\u001b[0m\u001b[1;33m\u001b[0m\u001b[1;33m\u001b[0m\u001b[0m\n\u001b[0;32m    261\u001b[0m         \u001b[1;32mwith\u001b[0m \u001b[0mparallel_backend\u001b[0m\u001b[1;33m(\u001b[0m\u001b[0mself\u001b[0m\u001b[1;33m.\u001b[0m\u001b[0m_backend\u001b[0m\u001b[1;33m,\u001b[0m \u001b[0mn_jobs\u001b[0m\u001b[1;33m=\u001b[0m\u001b[0mself\u001b[0m\u001b[1;33m.\u001b[0m\u001b[0m_n_jobs\u001b[0m\u001b[1;33m)\u001b[0m\u001b[1;33m:\u001b[0m\u001b[1;33m\u001b[0m\u001b[1;33m\u001b[0m\u001b[0m\n\u001b[1;32m--> 262\u001b[1;33m             return [func(*args, **kwargs)\n\u001b[0m\u001b[0;32m    263\u001b[0m                     for func, args, kwargs in self.items]\n\u001b[0;32m    264\u001b[0m \u001b[1;33m\u001b[0m\u001b[0m\n",
      "\u001b[1;32m~\\anaconda3\\lib\\site-packages\\joblib\\parallel.py\u001b[0m in \u001b[0;36m<listcomp>\u001b[1;34m(.0)\u001b[0m\n\u001b[0;32m    260\u001b[0m         \u001b[1;31m# change the default number of processes to -1\u001b[0m\u001b[1;33m\u001b[0m\u001b[1;33m\u001b[0m\u001b[1;33m\u001b[0m\u001b[0m\n\u001b[0;32m    261\u001b[0m         \u001b[1;32mwith\u001b[0m \u001b[0mparallel_backend\u001b[0m\u001b[1;33m(\u001b[0m\u001b[0mself\u001b[0m\u001b[1;33m.\u001b[0m\u001b[0m_backend\u001b[0m\u001b[1;33m,\u001b[0m \u001b[0mn_jobs\u001b[0m\u001b[1;33m=\u001b[0m\u001b[0mself\u001b[0m\u001b[1;33m.\u001b[0m\u001b[0m_n_jobs\u001b[0m\u001b[1;33m)\u001b[0m\u001b[1;33m:\u001b[0m\u001b[1;33m\u001b[0m\u001b[1;33m\u001b[0m\u001b[0m\n\u001b[1;32m--> 262\u001b[1;33m             return [func(*args, **kwargs)\n\u001b[0m\u001b[0;32m    263\u001b[0m                     for func, args, kwargs in self.items]\n\u001b[0;32m    264\u001b[0m \u001b[1;33m\u001b[0m\u001b[0m\n",
      "\u001b[1;32m~\\anaconda3\\lib\\site-packages\\sklearn\\utils\\fixes.py\u001b[0m in \u001b[0;36m__call__\u001b[1;34m(self, *args, **kwargs)\u001b[0m\n\u001b[0;32m    220\u001b[0m     \u001b[1;32mdef\u001b[0m \u001b[0m__call__\u001b[0m\u001b[1;33m(\u001b[0m\u001b[0mself\u001b[0m\u001b[1;33m,\u001b[0m \u001b[1;33m*\u001b[0m\u001b[0margs\u001b[0m\u001b[1;33m,\u001b[0m \u001b[1;33m**\u001b[0m\u001b[0mkwargs\u001b[0m\u001b[1;33m)\u001b[0m\u001b[1;33m:\u001b[0m\u001b[1;33m\u001b[0m\u001b[1;33m\u001b[0m\u001b[0m\n\u001b[0;32m    221\u001b[0m         \u001b[1;32mwith\u001b[0m \u001b[0mconfig_context\u001b[0m\u001b[1;33m(\u001b[0m\u001b[1;33m**\u001b[0m\u001b[0mself\u001b[0m\u001b[1;33m.\u001b[0m\u001b[0mconfig\u001b[0m\u001b[1;33m)\u001b[0m\u001b[1;33m:\u001b[0m\u001b[1;33m\u001b[0m\u001b[1;33m\u001b[0m\u001b[0m\n\u001b[1;32m--> 222\u001b[1;33m             \u001b[1;32mreturn\u001b[0m \u001b[0mself\u001b[0m\u001b[1;33m.\u001b[0m\u001b[0mfunction\u001b[0m\u001b[1;33m(\u001b[0m\u001b[1;33m*\u001b[0m\u001b[0margs\u001b[0m\u001b[1;33m,\u001b[0m \u001b[1;33m**\u001b[0m\u001b[0mkwargs\u001b[0m\u001b[1;33m)\u001b[0m\u001b[1;33m\u001b[0m\u001b[1;33m\u001b[0m\u001b[0m\n\u001b[0m",
      "\u001b[1;32m~\\anaconda3\\lib\\site-packages\\sklearn\\model_selection\\_validation.py\u001b[0m in \u001b[0;36m_fit_and_score\u001b[1;34m(estimator, X, y, scorer, train, test, verbose, parameters, fit_params, return_train_score, return_parameters, return_n_test_samples, return_times, return_estimator, split_progress, candidate_progress, error_score)\u001b[0m\n\u001b[0;32m    591\u001b[0m             \u001b[0mestimator\u001b[0m\u001b[1;33m.\u001b[0m\u001b[0mfit\u001b[0m\u001b[1;33m(\u001b[0m\u001b[0mX_train\u001b[0m\u001b[1;33m,\u001b[0m \u001b[1;33m**\u001b[0m\u001b[0mfit_params\u001b[0m\u001b[1;33m)\u001b[0m\u001b[1;33m\u001b[0m\u001b[1;33m\u001b[0m\u001b[0m\n\u001b[0;32m    592\u001b[0m         \u001b[1;32melse\u001b[0m\u001b[1;33m:\u001b[0m\u001b[1;33m\u001b[0m\u001b[1;33m\u001b[0m\u001b[0m\n\u001b[1;32m--> 593\u001b[1;33m             \u001b[0mestimator\u001b[0m\u001b[1;33m.\u001b[0m\u001b[0mfit\u001b[0m\u001b[1;33m(\u001b[0m\u001b[0mX_train\u001b[0m\u001b[1;33m,\u001b[0m \u001b[0my_train\u001b[0m\u001b[1;33m,\u001b[0m \u001b[1;33m**\u001b[0m\u001b[0mfit_params\u001b[0m\u001b[1;33m)\u001b[0m\u001b[1;33m\u001b[0m\u001b[1;33m\u001b[0m\u001b[0m\n\u001b[0m\u001b[0;32m    594\u001b[0m \u001b[1;33m\u001b[0m\u001b[0m\n\u001b[0;32m    595\u001b[0m     \u001b[1;32mexcept\u001b[0m \u001b[0mException\u001b[0m \u001b[1;32mas\u001b[0m \u001b[0me\u001b[0m\u001b[1;33m:\u001b[0m\u001b[1;33m\u001b[0m\u001b[1;33m\u001b[0m\u001b[0m\n",
      "\u001b[1;32m~\\anaconda3\\lib\\site-packages\\sklearn\\linear_model\\_coordinate_descent.py\u001b[0m in \u001b[0;36mfit\u001b[1;34m(self, X, y, sample_weight, check_input)\u001b[0m\n\u001b[0;32m    842\u001b[0m                 \u001b[0mthis_Xy\u001b[0m \u001b[1;33m=\u001b[0m \u001b[1;32mNone\u001b[0m\u001b[1;33m\u001b[0m\u001b[1;33m\u001b[0m\u001b[0m\n\u001b[0;32m    843\u001b[0m             \u001b[0m_\u001b[0m\u001b[1;33m,\u001b[0m \u001b[0mthis_coef\u001b[0m\u001b[1;33m,\u001b[0m \u001b[0mthis_dual_gap\u001b[0m\u001b[1;33m,\u001b[0m \u001b[0mthis_iter\u001b[0m \u001b[1;33m=\u001b[0m\u001b[0;31m \u001b[0m\u001b[0;31m\\\u001b[0m\u001b[1;33m\u001b[0m\u001b[1;33m\u001b[0m\u001b[0m\n\u001b[1;32m--> 844\u001b[1;33m                 self.path(X, y[:, k],\n\u001b[0m\u001b[0;32m    845\u001b[0m                           \u001b[0ml1_ratio\u001b[0m\u001b[1;33m=\u001b[0m\u001b[0mself\u001b[0m\u001b[1;33m.\u001b[0m\u001b[0ml1_ratio\u001b[0m\u001b[1;33m,\u001b[0m \u001b[0meps\u001b[0m\u001b[1;33m=\u001b[0m\u001b[1;32mNone\u001b[0m\u001b[1;33m,\u001b[0m\u001b[1;33m\u001b[0m\u001b[1;33m\u001b[0m\u001b[0m\n\u001b[0;32m    846\u001b[0m                           \u001b[0mn_alphas\u001b[0m\u001b[1;33m=\u001b[0m\u001b[1;32mNone\u001b[0m\u001b[1;33m,\u001b[0m \u001b[0malphas\u001b[0m\u001b[1;33m=\u001b[0m\u001b[1;33m[\u001b[0m\u001b[0malpha\u001b[0m\u001b[1;33m]\u001b[0m\u001b[1;33m,\u001b[0m\u001b[1;33m\u001b[0m\u001b[1;33m\u001b[0m\u001b[0m\n",
      "\u001b[1;32m~\\anaconda3\\lib\\site-packages\\sklearn\\utils\\validation.py\u001b[0m in \u001b[0;36minner_f\u001b[1;34m(*args, **kwargs)\u001b[0m\n\u001b[0;32m     61\u001b[0m             \u001b[0mextra_args\u001b[0m \u001b[1;33m=\u001b[0m \u001b[0mlen\u001b[0m\u001b[1;33m(\u001b[0m\u001b[0margs\u001b[0m\u001b[1;33m)\u001b[0m \u001b[1;33m-\u001b[0m \u001b[0mlen\u001b[0m\u001b[1;33m(\u001b[0m\u001b[0mall_args\u001b[0m\u001b[1;33m)\u001b[0m\u001b[1;33m\u001b[0m\u001b[1;33m\u001b[0m\u001b[0m\n\u001b[0;32m     62\u001b[0m             \u001b[1;32mif\u001b[0m \u001b[0mextra_args\u001b[0m \u001b[1;33m<=\u001b[0m \u001b[1;36m0\u001b[0m\u001b[1;33m:\u001b[0m\u001b[1;33m\u001b[0m\u001b[1;33m\u001b[0m\u001b[0m\n\u001b[1;32m---> 63\u001b[1;33m                 \u001b[1;32mreturn\u001b[0m \u001b[0mf\u001b[0m\u001b[1;33m(\u001b[0m\u001b[1;33m*\u001b[0m\u001b[0margs\u001b[0m\u001b[1;33m,\u001b[0m \u001b[1;33m**\u001b[0m\u001b[0mkwargs\u001b[0m\u001b[1;33m)\u001b[0m\u001b[1;33m\u001b[0m\u001b[1;33m\u001b[0m\u001b[0m\n\u001b[0m\u001b[0;32m     64\u001b[0m \u001b[1;33m\u001b[0m\u001b[0m\n\u001b[0;32m     65\u001b[0m             \u001b[1;31m# extra_args > 0\u001b[0m\u001b[1;33m\u001b[0m\u001b[1;33m\u001b[0m\u001b[1;33m\u001b[0m\u001b[0m\n",
      "\u001b[1;32m~\\anaconda3\\lib\\site-packages\\sklearn\\linear_model\\_coordinate_descent.py\u001b[0m in \u001b[0;36menet_path\u001b[1;34m(X, y, l1_ratio, eps, n_alphas, alphas, precompute, Xy, copy_X, coef_init, verbose, return_n_iter, positive, check_input, **params)\u001b[0m\n\u001b[0;32m    528\u001b[0m                 tol, rng, random, positive)\n\u001b[0;32m    529\u001b[0m         \u001b[1;32melif\u001b[0m \u001b[0mprecompute\u001b[0m \u001b[1;32mis\u001b[0m \u001b[1;32mFalse\u001b[0m\u001b[1;33m:\u001b[0m\u001b[1;33m\u001b[0m\u001b[1;33m\u001b[0m\u001b[0m\n\u001b[1;32m--> 530\u001b[1;33m             model = cd_fast.enet_coordinate_descent(\n\u001b[0m\u001b[0;32m    531\u001b[0m                 \u001b[0mcoef_\u001b[0m\u001b[1;33m,\u001b[0m \u001b[0ml1_reg\u001b[0m\u001b[1;33m,\u001b[0m \u001b[0ml2_reg\u001b[0m\u001b[1;33m,\u001b[0m \u001b[0mX\u001b[0m\u001b[1;33m,\u001b[0m \u001b[0my\u001b[0m\u001b[1;33m,\u001b[0m \u001b[0mmax_iter\u001b[0m\u001b[1;33m,\u001b[0m \u001b[0mtol\u001b[0m\u001b[1;33m,\u001b[0m \u001b[0mrng\u001b[0m\u001b[1;33m,\u001b[0m \u001b[0mrandom\u001b[0m\u001b[1;33m,\u001b[0m\u001b[1;33m\u001b[0m\u001b[1;33m\u001b[0m\u001b[0m\n\u001b[0;32m    532\u001b[0m                 positive)\n",
      "\u001b[1;31mKeyboardInterrupt\u001b[0m: "
     ]
    }
   ],
   "source": [
    "grid_model.fit(X_train, y_train)"
   ]
  },
  {
   "cell_type": "code",
   "execution_count": null,
   "metadata": {},
   "outputs": [],
   "source": [
    "grid_model.best_params_"
   ]
  },
  {
   "cell_type": "code",
   "execution_count": null,
   "metadata": {},
   "outputs": [],
   "source": [
    "pd.DataFrame(grid_model.cv_results_)"
   ]
  },
  {
   "cell_type": "code",
   "execution_count": null,
   "metadata": {},
   "outputs": [],
   "source": [
    "y_pred = grid_model.predict(X_test)"
   ]
  },
  {
   "cell_type": "code",
   "execution_count": null,
   "metadata": {},
   "outputs": [],
   "source": [
    "eval_metrics(y_test, y_pred)"
   ]
  },
  {
   "cell_type": "markdown",
   "metadata": {
    "id": "sYyuZQtWmqZO"
   },
   "source": [
    "## 7. Visually Compare Models Performance In a Graph"
   ]
  },
  {
   "cell_type": "code",
   "execution_count": 80,
   "metadata": {},
   "outputs": [
    {
     "data": {
      "text/html": [
       "<div>\n",
       "<style scoped>\n",
       "    .dataframe tbody tr th:only-of-type {\n",
       "        vertical-align: middle;\n",
       "    }\n",
       "\n",
       "    .dataframe tbody tr th {\n",
       "        vertical-align: top;\n",
       "    }\n",
       "\n",
       "    .dataframe thead th {\n",
       "        text-align: right;\n",
       "    }\n",
       "</style>\n",
       "<table border=\"1\" class=\"dataframe\">\n",
       "  <thead>\n",
       "    <tr style=\"text-align: right;\">\n",
       "      <th></th>\n",
       "      <th>mae</th>\n",
       "      <th>mse</th>\n",
       "      <th>rmse</th>\n",
       "      <th>R2_score</th>\n",
       "    </tr>\n",
       "  </thead>\n",
       "  <tbody>\n",
       "    <tr>\n",
       "      <th>0</th>\n",
       "      <td>1753.682501</td>\n",
       "      <td>6.232254e+06</td>\n",
       "      <td>2496.448201</td>\n",
       "      <td>0.885445</td>\n",
       "    </tr>\n",
       "    <tr>\n",
       "      <th>1</th>\n",
       "      <td>1753.878603</td>\n",
       "      <td>6.239804e+06</td>\n",
       "      <td>2497.960057</td>\n",
       "      <td>0.885306</td>\n",
       "    </tr>\n",
       "    <tr>\n",
       "      <th>2</th>\n",
       "      <td>2343.140740</td>\n",
       "      <td>1.039604e+07</td>\n",
       "      <td>3224.289821</td>\n",
       "      <td>0.808910</td>\n",
       "    </tr>\n",
       "  </tbody>\n",
       "</table>\n",
       "</div>"
      ],
      "text/plain": [
       "           mae           mse         rmse  R2_score\n",
       "0  1753.682501  6.232254e+06  2496.448201  0.885445\n",
       "1  1753.878603  6.239804e+06  2497.960057  0.885306\n",
       "2  2343.140740  1.039604e+07  3224.289821  0.808910"
      ]
     },
     "execution_count": 80,
     "metadata": {},
     "output_type": "execute_result"
    }
   ],
   "source": [
    "df1 = pd.DataFrame.from_dict(data = [dict_ridge, dict_lasso, dict_elastic])\n",
    "\n",
    "df1 = df1\n",
    "df1"
   ]
  },
  {
   "cell_type": "code",
   "execution_count": 91,
   "metadata": {},
   "outputs": [
    {
     "data": {
      "text/plain": [
       "array([1753.68250076, 1753.87860339, 2343.14073988])"
      ]
     },
     "execution_count": 91,
     "metadata": {},
     "output_type": "execute_result"
    }
   ],
   "source": [
    "df1[\"mae\"].values"
   ]
  },
  {
   "cell_type": "code",
   "execution_count": 108,
   "metadata": {},
   "outputs": [
    {
     "data": {
      "text/plain": [
       "Text(0.5, 1.0, ' rmse dif')"
      ]
     },
     "execution_count": 108,
     "metadata": {},
     "output_type": "execute_result"
    },
    {
     "data": {
      "image/png": "[encoded data removed]",
      "text/plain": [
       "<Figure size 720x432 with 4 Axes>"
      ]
     },
     "metadata": {
      "needs_background": "light"
     },
     "output_type": "display_data"
    }
   ],
   "source": [
    "fig, axs = plt.subplots(2, 2)\n",
    "axs[0, 0].bar([1, 2,3], df1[\"mae\"].values, width=0.7,\n",
    "       tick_label=['ridge', 'lasso', 'elsatic'], align='center')\n",
    "axs[0, 0].set_title('MAE dif')\n",
    "axs[0, 1].bar([1, 2,3], df1[\"R2_score\"].values, width=0.7,\n",
    "       tick_label=['ridge', 'lasso', 'elsatic'], align='center')\n",
    "axs[0, 1].set_title('R2 dif')\n",
    "axs[1, 0].bar([1, 2,3], df1[\"mse\"].values, width=0.7,\n",
    "       tick_label=['ridge', 'lasso', 'elsatic'], align='center')\n",
    "axs[1, 0].set_title('mse dif')\n",
    "axs[1, 1].bar([1, 2,3], df1[\"rmse\"].values, width=0.7,\n",
    "       tick_label=['ridge', 'lasso', 'elsatic'], align='center')\n",
    "axs[1, 1].set_title(' rmse dif')"
   ]
  },
  {
   "cell_type": "markdown",
   "metadata": {},
   "source": [
    "___\n",
    "\n",
    "<p style=\"text-align: center;\"><img src=\"https://docs.google.com/uc?id=1lY0Uj5R04yMY3-ZppPWxqCr5pvBLYPnV\" class=\"img-fluid\" alt=\"CLRSWY\"></p>\n",
    "\n",
    "___"
   ]
  },
  {
   "cell_type": "code",
   "execution_count": 68,
   "metadata": {},
   "outputs": [
    {
     "data": {
      "text/plain": [
       "0    1753.682501\n",
       "1    1753.878603\n",
       "2    2343.140740\n",
       "Name: mae, dtype: float64"
      ]
     },
     "execution_count": 68,
     "metadata": {},
     "output_type": "execute_result"
    }
   ],
   "source": [
    "df1.iloc[0]"
   ]
  },
  {
   "cell_type": "code",
   "execution_count": null,
   "metadata": {},
   "outputs": [],
   "source": []
  }
 ],
 "metadata": {
  "colab": {
   "collapsed_sections": [],
   "name": "modeling_auto_scout_Student_V1.ipynb",
   "provenance": []
  },
  "kernelspec": {
   "display_name": "Python 3",
   "language": "python",
   "name": "python3"
  },
  "language_info": {
   "codemirror_mode": {
    "name": "ipython",
    "version": 3
   },
   "file_extension": ".py",
   "mimetype": "text/x-python",
   "name": "python",
   "nbconvert_exporter": "python",
   "pygments_lexer": "ipython3",
   "version": "3.8.8"
  }
 },
 "nbformat": 4,
 "nbformat_minor": 4
}
